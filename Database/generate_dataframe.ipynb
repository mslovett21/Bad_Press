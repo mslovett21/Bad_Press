{
 "cells": [
  {
   "cell_type": "code",
   "execution_count": null,
   "metadata": {},
   "outputs": [],
   "source": [
    "import pandas as pd\n",
    "from pandas import DataFrame, Series\n",
    "import numpy as np\n",
    "import string\n",
    "from clean_data import*"
   ]
  },
  {
   "cell_type": "code",
   "execution_count": null,
   "metadata": {},
   "outputs": [],
   "source": [
    "from add_summary import*\n"
   ]
  },
  {
   "cell_type": "code",
   "execution_count": null,
   "metadata": {},
   "outputs": [],
   "source": [
    "from find_category import*"
   ]
  },
  {
   "cell_type": "code",
   "execution_count": 4,
   "metadata": {},
   "outputs": [],
   "source": [
    "candidate=DataFrame(columns=[\"id\", \"name\",\"state_fk\",\"date_birth\", \"place_birth\", \"position\", \"URL_photo\", \"party\"])\n",
    "\n",
    "candidate1=pd.DataFrame([[1, \"Don Blankenship\",1, \"March 14, 1950\", \"Stopover, Kentucky\", \"Coal magnate\", \"https://i2.wp.com/woay.tv/wp-content/uploads/2017/05/GTY_don_blankenship_jt_160406_4x3_992.jpg?resize=735%2C400&ssl=1\",\"Republican\" ],\n",
    "                     [2, \"Bo Copley\",1, \"\", \" Dingess, West Virginia\", \"\",\"https://heavyeditorial.files.wordpress.com/2017/05/bo-copley-e1494012597984.jpg?quality=65&strip=all&w=780&strip=all\",\"Republican\" ],\n",
    "                     [3, \"Evan Jenkins\",1, \"September 12, 1960\", \"Huntington, West Virginia\",\"U.S. House of Representatives\",\"https://www.congress.gov/img/member/114_rp_wv_3_jenkins_evan.jpg\",\"Republican\"  ],\n",
    "                     [4, \"Joe Manchin\",1, \" August 24, 1947\", \"Farmington, West Virginia\", \"United States Senator\", \"https://fi.wikipedia.org/wiki/Joe_Manchin#/media/File:Senator_Manchin.jpg\", \"Democrat\"],\n",
    "                     [5, \"Patrick Morrisey\",1,\"December 21, 1967\",\"Brooklyn, New York City, NY\",\"West Virginia Attorney General since 2013\",\"http://wvmetronews.com/wordpress/wp-content/uploads/2016/02/Patrick-Morrisey.jpg?x43308\",\"Republican\"  ],\n",
    "                     [6, \"Jack Newbrough\",1, \"\", \"\",\"U.S. Navy veteran\",\"http://s3.amazonaws.com/ogden_images/www.weirtondailytimes.com/images/2017/09/23190845/Newbrough-003-1100x825.jpg\" ,\"Republican\" ],\n",
    "                     [7, \"Paula Jean Swearengin\", 1, \"born 1973/74\",\"Mullens, West Virginia\",\"\",\"https://cbbba9d899c5f8ae6108-e379174d4d25dcb78174c6cab0a88cea.ssl.cf1.rackcdn.com/1275564-l.jpg\", \"Democrat\"],\n",
    "                     [8, \"Tom Willis\",1, \"\",\"\",\"\",\"https://api.ballotpedia.org/v3/thumbnail/200/300/crop/best/2C512069-7298-4BAC-B9F3-6BFECDC2FB57.jpeg\",\"Republican\" ],\n",
    "                     [9, \"Nicholas Freitas\", 2, \"\", \"\", \"\",\"\",\"Republican\"],\n",
    "                     [10, \"E. W. Jackson\", 2,\"\",\"\",\"\",\"\",\"Republican\"],\n",
    "                     [11, \"Tim Kaine\", 2, \"\", \"\", \"\", \"\", \"Democrat\"],\n",
    "                     [12, \"Corey Stewart\", 2, \"\", \"\", \"\", \"\", \"Republican\"],\n",
    "                     [13, \"Matt Waters\", 2, \"\", \"\", \"\", \"\", \"Libertarian\"],\n",
    "                     [14, \"Carl Bible\", 3, \"\", \"\", \"\", \"\", \"Independent\"],\n",
    "                     [15, \"Ted Cruz\", 3, \"\", \"\", \"\", \"\", \"Republican\"],\n",
    "                     [16, \"Bob McNeil\", 3, \"\", \"\", \"\", \"\", \"American Citizen Party\"],\n",
    "                     [17, \"Beto O'Rourke\", 3, \"\", \"\", \"\", \"\", \"Democrat\"]],\n",
    "                        columns=[\"id\", \"name\",\"state_fk\",\"date_birth\", \"place_birth\", \"position\",\"URL_photo\", \"party\"])\n",
    "candidate=candidate.append(candidate1)\n"
   ]
  },
  {
   "cell_type": "code",
   "execution_count": 5,
   "metadata": {},
   "outputs": [],
   "source": [
    "all_candidates = []\n",
    "for index,row in candidate.iterrows():\n",
    "    all_candidates.append(row['name'])"
   ]
  },
  {
   "cell_type": "code",
   "execution_count": null,
   "metadata": {},
   "outputs": [],
   "source": []
  },
  {
   "cell_type": "code",
   "execution_count": 6,
   "metadata": {},
   "outputs": [],
   "source": [
    "## script is hardcoded to take in data from the RAW_DATA file\n",
    "# this function takes in a list of candidates (string form) and a name of the output json file\n",
    "structure_data(all_candidates, \"ALL_DATA\")"
   ]
  },
  {
   "cell_type": "code",
   "execution_count": null,
   "metadata": {},
   "outputs": [],
   "source": []
  },
  {
   "cell_type": "code",
   "execution_count": null,
   "metadata": {},
   "outputs": [],
   "source": []
  },
  {
   "cell_type": "code",
   "execution_count": null,
   "metadata": {},
   "outputs": [],
   "source": []
  },
  {
   "cell_type": "code",
   "execution_count": 7,
   "metadata": {},
   "outputs": [],
   "source": [
    "# this script takes an input file and returns a dataframe of the file + summaries\n",
    "all_data = add_summary(\"ALL_DATA.json\")"
   ]
  },
  {
   "cell_type": "code",
   "execution_count": null,
   "metadata": {},
   "outputs": [],
   "source": [
    "all_data"
   ]
  },
  {
   "cell_type": "code",
   "execution_count": null,
   "metadata": {},
   "outputs": [],
   "source": [
    "b = [[2*x for y in a] for x in y]\n",
    "c = [[2*x for x in y] for y in a]\n",
    "#[[int(x) for x in feet] for x in feet]"
   ]
  },
  {
   "cell_type": "code",
   "execution_count": null,
   "metadata": {},
   "outputs": [],
   "source": []
  },
  {
   "cell_type": "code",
   "execution_count": null,
   "metadata": {},
   "outputs": [],
   "source": [
    "## category analysis"
   ]
  },
  {
   "cell_type": "code",
   "execution_count": 8,
   "metadata": {},
   "outputs": [],
   "source": [
    "corpus = []\n",
    "for index,row in all_data.iterrows():\n",
    "    corpus.append(row['article_text'])"
   ]
  },
  {
   "cell_type": "code",
   "execution_count": null,
   "metadata": {},
   "outputs": [],
   "source": []
  },
  {
   "cell_type": "code",
   "execution_count": 9,
   "metadata": {},
   "outputs": [],
   "source": [
    "def find_categories_and_top20(corpus):\n",
    "    corpus_sentences = [splitToSentences(x) for x in corpus]\n",
    "    corpus_words = []\n",
    "    for x in corpus_sentences:\n",
    "        corpus_words.append(([convertToLowercase(lemmatizeWords(splitToWords(removePunctuation(y)))) for y in x]))\n",
    "    #corpus_words = [removeStopWords(WhitespaceTokenizer().tokenize(x)) for x in corpus]\n",
    "\n",
    "    final_corpus = []\n",
    "    for x in corpus_words:\n",
    "        final_corpus.append([item for sublist in x for item in removeStopWords(sublist) if item.isalpha()])\n",
    "    return final_corpus\n"
   ]
  },
  {
   "cell_type": "code",
   "execution_count": 10,
   "metadata": {},
   "outputs": [],
   "source": [
    "import time\n",
    "\n",
    "def create_lda_page(final_corpus):\n",
    "    start_time = time.time()\n",
    "\n",
    "    dictionary = corpora.Dictionary(final_corpus)\n",
    "\n",
    "    # Converts dictionary into a bag-of-words.\n",
    "    corpusVec = [dictionary.doc2bow(text) for text in final_corpus]\n",
    "\n",
    "    # Generate LDA model\n",
    "    ldamodel = gensim.models.ldamodel.LdaModel(corpusVec, num_topics=10, id2word = dictionary, passes=500)\n",
    "    # print(ldamodel.print_topics(num_topics=5, num_words=5))\n",
    "\n",
    "    vis_data = pyLDAvis.gensim.prepare(ldamodel, corpusVec, dictionary)\n",
    "\n",
    "    pyLDAvis.save_html(vis_data, 'lda_reduced_2.html')\n",
    "    print(\"--- %s seconds ---\" % (time.time() - start_time))"
   ]
  },
  {
   "cell_type": "code",
   "execution_count": 11,
   "metadata": {},
   "outputs": [],
   "source": [
    "# call script to generate categories and \n",
    "relevant_words = find_categories_and_top20(corpus)"
   ]
  },
  {
   "cell_type": "code",
   "execution_count": 12,
   "metadata": {},
   "outputs": [
    {
     "name": "stderr",
     "output_type": "stream",
     "text": [
      "/Users/sarahmathew/Envs/capstone/lib/python3.6/site-packages/pyLDAvis/_prepare.py:387: DeprecationWarning: \n",
      ".ix is deprecated. Please use\n",
      ".loc for label based indexing or\n",
      ".iloc for positional indexing\n",
      "\n",
      "See the documentation here:\n",
      "http://pandas.pydata.org/pandas-docs/stable/indexing.html#ix-indexer-is-deprecated\n",
      "  topic_term_dists = topic_term_dists.ix[topic_order]\n"
     ]
    },
    {
     "name": "stdout",
     "output_type": "stream",
     "text": [
      "--- 716.7678558826447 seconds ---\n"
     ]
    }
   ],
   "source": [
    "create_lda_page(relevant_words)"
   ]
  },
  {
   "cell_type": "code",
   "execution_count": null,
   "metadata": {},
   "outputs": [],
   "source": []
  },
  {
   "cell_type": "code",
   "execution_count": 15,
   "metadata": {},
   "outputs": [],
   "source": [
    "extra_stopwords = [\"like\", \"it’s\", \"uh\", \"going\", \"that’s\", \"think\", \"actually\", \"kind\", \"…\", \"know\", \"come\", \"u\", \"really\"\n",
    "                   ,\"mr\", \"june\", \"july\", \"august\", \"aug\", \"festival\", \"theater\", \"music\", \"concert\", \"dance\", \"performance\"\n",
    "                   ,\"jazz\", \"band\", \"arts\", \"art\",\"museum\",\"painting\", \"artist\", \"exhibition\",\"gallery\", \"ms\", \"sculpture\"\n",
    "                   ,\"tell\", \"also\",\"thats\", \"im\", \"album\", \"film\", \"movie\", \"opera\", \"cookbook\", \"orchestra\", \"play\"\n",
    "                   ,\"street\", \"design\", \"photograph\", \"drawing\", \"collection\", \"street\", \"design\", \"direct\", \"jan\", \"may\",\"summer\"\n",
    "                   ,\"season\", \"production\",\"park\"]"
   ]
  },
  {
   "cell_type": "code",
   "execution_count": 16,
   "metadata": {},
   "outputs": [
    {
     "data": {
      "text/plain": [
       "['like',\n",
       " 'it’s',\n",
       " 'uh',\n",
       " 'going',\n",
       " 'that’s',\n",
       " 'think',\n",
       " 'actually',\n",
       " 'kind',\n",
       " '…',\n",
       " 'know',\n",
       " 'come',\n",
       " 'u',\n",
       " 'really',\n",
       " 'mr',\n",
       " 'june',\n",
       " 'july',\n",
       " 'august',\n",
       " 'aug',\n",
       " 'festival',\n",
       " 'theater',\n",
       " 'music',\n",
       " 'concert',\n",
       " 'dance',\n",
       " 'performance',\n",
       " 'jazz',\n",
       " 'band',\n",
       " 'arts',\n",
       " 'art',\n",
       " 'museum',\n",
       " 'painting',\n",
       " 'artist',\n",
       " 'exhibition',\n",
       " 'gallery',\n",
       " 'ms',\n",
       " 'sculpture',\n",
       " 'tell',\n",
       " 'also',\n",
       " 'thats',\n",
       " 'im',\n",
       " 'album',\n",
       " 'film',\n",
       " 'movie',\n",
       " 'opera',\n",
       " 'cookbook',\n",
       " 'orchestra',\n",
       " 'play',\n",
       " 'street',\n",
       " 'design',\n",
       " 'photograph',\n",
       " 'drawing',\n",
       " 'collection',\n",
       " 'street',\n",
       " 'design',\n",
       " 'direct',\n",
       " 'jan',\n",
       " 'may',\n",
       " 'summer',\n",
       " 'season',\n",
       " 'production',\n",
       " 'park']"
      ]
     },
     "execution_count": 16,
     "metadata": {},
     "output_type": "execute_result"
    }
   ],
   "source": [
    "extra_stopwords"
   ]
  },
  {
   "cell_type": "code",
   "execution_count": null,
   "metadata": {},
   "outputs": [],
   "source": []
  }
 ],
 "metadata": {
  "kernelspec": {
   "display_name": "Python 3",
   "language": "python",
   "name": "python3"
  },
  "language_info": {
   "codemirror_mode": {
    "name": "ipython",
    "version": 3
   },
   "file_extension": ".py",
   "mimetype": "text/x-python",
   "name": "python",
   "nbconvert_exporter": "python",
   "pygments_lexer": "ipython3",
   "version": "3.6.4"
  }
 },
 "nbformat": 4,
 "nbformat_minor": 2
}
