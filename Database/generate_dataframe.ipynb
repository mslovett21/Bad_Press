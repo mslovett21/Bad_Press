{
 "cells": [
  {
   "cell_type": "code",
   "execution_count": null,
   "metadata": {},
   "outputs": [],
   "source": [
    "import pandas as pd\n",
    "from pandas import DataFrame, Series\n",
    "import numpy as np\n",
    "import string\n",
    "\n",
    "from clean_data import*\n",
    "from add_summary import*\n",
    "from find_category import*"
   ]
  },
  {
   "cell_type": "code",
   "execution_count": null,
   "metadata": {},
   "outputs": [],
   "source": []
  },
  {
   "cell_type": "code",
   "execution_count": 2,
   "metadata": {},
   "outputs": [],
   "source": [
    "candidate=DataFrame(columns=[\"id\", \"name\",\"state_fk\",\"date_birth\", \"place_birth\", \"position\", \"URL_photo\", \"party\"])\n",
    "\n",
    "candidate1=pd.DataFrame([[1, \"Don Blankenship\",1, \"March 14, 1950\", \"Stopover, Kentucky\", \"Coal magnate\", \"https://i2.wp.com/woay.tv/wp-content/uploads/2017/05/GTY_don_blankenship_jt_160406_4x3_992.jpg?resize=735%2C400&ssl=1\",\"Republican\" ],\n",
    "                     [2, \"Bo Copley\",1, \"\", \" Dingess, West Virginia\", \"\",\"https://heavyeditorial.files.wordpress.com/2017/05/bo-copley-e1494012597984.jpg?quality=65&strip=all&w=780&strip=all\",\"Republican\" ],\n",
    "                     [3, \"Evan Jenkins\",1, \"September 12, 1960\", \"Huntington, West Virginia\",\"U.S. House of Representatives\",\"https://www.congress.gov/img/member/114_rp_wv_3_jenkins_evan.jpg\",\"Republican\"  ],\n",
    "                     [4, \"Joe Manchin\",1, \" August 24, 1947\", \"Farmington, West Virginia\", \"United States Senator\", \"https://fi.wikipedia.org/wiki/Joe_Manchin#/media/File:Senator_Manchin.jpg\", \"Democrat\"],\n",
    "                     [5, \"Patrick Morrisey\",1,\"December 21, 1967\",\"Brooklyn, New York City, NY\",\"West Virginia Attorney General since 2013\",\"http://wvmetronews.com/wordpress/wp-content/uploads/2016/02/Patrick-Morrisey.jpg?x43308\",\"Republican\"  ],\n",
    "                     [6, \"Jack Newbrough\",1, \"\", \"\",\"U.S. Navy veteran\",\"http://s3.amazonaws.com/ogden_images/www.weirtondailytimes.com/images/2017/09/23190845/Newbrough-003-1100x825.jpg\" ,\"Republican\" ],\n",
    "                     [7, \"Paula Jean Swearengin\", 1, \"born 1973/74\",\"Mullens, West Virginia\",\"\",\"https://cbbba9d899c5f8ae6108-e379174d4d25dcb78174c6cab0a88cea.ssl.cf1.rackcdn.com/1275564-l.jpg\", \"Democrat\"],\n",
    "                     [8, \"Tom Willis\",1, \"\",\"\",\"\",\"https://api.ballotpedia.org/v3/thumbnail/200/300/crop/best/2C512069-7298-4BAC-B9F3-6BFECDC2FB57.jpeg\",\"Republican\" ],\n",
    "                     [9, \"Nicholas Freitas\", 2, \"\", \"\", \"\",\"\",\"Republican\"],\n",
    "                     [10, \"E. W. Jackson\", 2,\"\",\"\",\"\",\"\",\"Republican\"],\n",
    "                     [11, \"Tim Kaine\", 2, \"\", \"\", \"\", \"\", \"Democrat\"],\n",
    "                     [12, \"Corey Stewart\", 2, \"\", \"\", \"\", \"\", \"Republican\"],\n",
    "                     [13, \"Matt Waters\", 2, \"\", \"\", \"\", \"\", \"Libertarian\"],\n",
    "                     [14, \"Carl Bible\", 3, \"\", \"\", \"\", \"\", \"Independent\"],\n",
    "                     [15, \"Ted Cruz\", 3, \"\", \"\", \"\", \"\", \"Republican\"],\n",
    "                     [16, \"Bob McNeil\", 3, \"\", \"\", \"\", \"\", \"American Citizen Party\"],\n",
    "                     [17, \"Beto O'Rourke\", 3, \"\", \"\", \"\", \"\", \"Democrat\"]],\n",
    "                        columns=[\"id\", \"name\",\"state_fk\",\"date_birth\", \"place_birth\", \"position\",\"URL_photo\", \"party\"])\n",
    "candidate=candidate.append(candidate1)\n"
   ]
  },
  {
   "cell_type": "code",
   "execution_count": 3,
   "metadata": {},
   "outputs": [],
   "source": [
    "all_candidates = []\n",
    "for index,row in candidate.iterrows():\n",
    "    all_candidates.append(row['name'])"
   ]
  },
  {
   "cell_type": "code",
   "execution_count": null,
   "metadata": {},
   "outputs": [],
   "source": []
  },
  {
   "cell_type": "code",
   "execution_count": 4,
   "metadata": {},
   "outputs": [],
   "source": [
    "## script is hardcoded to take in data from the RAW_DATA file\n",
    "# this function takes in a list of candidates (string form) and a name of the output json file\n",
    "structure_data(all_candidates, \"ALL_DATA.json\")"
   ]
  },
  {
   "cell_type": "code",
   "execution_count": null,
   "metadata": {},
   "outputs": [],
   "source": []
  },
  {
   "cell_type": "code",
   "execution_count": 5,
   "metadata": {},
   "outputs": [],
   "source": [
    "# this script takes an input file and creates a new json\n",
    "add_summary(\"ALL_DATA.json\", \"ALL_DATA_SUMM.json\")"
   ]
  },
  {
   "cell_type": "code",
   "execution_count": 6,
   "metadata": {},
   "outputs": [],
   "source": [
    "all_data = pd.read_json(\"ALL_DATA_SUMM.json\")"
   ]
  },
  {
   "cell_type": "code",
   "execution_count": null,
   "metadata": {},
   "outputs": [],
   "source": [
    "## category analysis"
   ]
  },
  {
   "cell_type": "code",
   "execution_count": 7,
   "metadata": {},
   "outputs": [],
   "source": [
    "# call script to generate categories and \n",
    "\n",
    "all_candidates_str = [x.split() for x in all_candidates]\n",
    "all_candidates_str = [x.lower() for y in all_candidates_str for x in y]\n",
    "all_candidates_str.append(\"ORourke\".lower())\n",
    "extra_words = [\"like\", \"it’s\", \"uh\", \"going\", \"that’s\", \"think\", \"actually\", \"kind\", \"…\", \"know\", \"come\", \"u\", \"really\"\n",
    "                       ,\"mr\", \"june\", \"july\", \"august\", \"aug\", \"festival\", \"theater\", \"music\", \"concert\", \"dance\", \"performance\"\n",
    "                       , \"jazz\", \"band\", \"arts\", \"art\",\"museum\",\"painting\", \"artist\", \"exhibition\",\"gallery\", \"ms\", \"sculpture\"\n",
    "                       , \"tell\", \"also\",\"thats\", \"im\", \"album\", \"film\", \"movie\", \"opera\", \"cookbook\", \"orchestra\", \"play\"\n",
    "                       , \"street\", \"design\", \"photograph\", \"drawing\", \"collection\", \"street\", \"design\", \"direct\", \"jan\", \"may\",\"summer\"\n",
    "                       , \"season\", \"production\", \"park\", \"oct\", \"show\", \"quartet\", \"series\", \"may\", \"star\", \"feature\", \"tonight\"\n",
    "                       , \"avenue\", \"village\", \"production\", \"summer\", \"season\", \"premiere\",\"ballet\", \"photograph\", \"drawing\", \"boat\"\n",
    "                       , \"symphony\", \"shakespeare\", \"repertory\",\"pop\", \"perform\", \"perform\", \"night\", \"classical\", \"guest\", \"musical\"\n",
    "                       ,\"january\", \"jan\", \"february\", \"feb\", \"march\", \"mar\", \"april\", \"apr\",\"may\", \"june\", \"july\", \"august\", \"aug\"\n",
    "                       ,\"september\", \"sept\", \"october\", \"oct\", \"november\", \"nov\", \"december\", \"dec\", \"literature\"]\n",
    "\n",
    "extra_words.extend(all_candidates_str)\n"
   ]
  },
  {
   "cell_type": "code",
   "execution_count": 8,
   "metadata": {},
   "outputs": [],
   "source": [
    "corpus_text = []\n",
    "for index,row in all_data.iterrows():\n",
    "    corpus_text.append(row['article_text'])"
   ]
  },
  {
   "cell_type": "code",
   "execution_count": null,
   "metadata": {},
   "outputs": [],
   "source": [
    "corpus_titles = []\n",
    "for index,row in all_data.iterrows():\n",
    "    corpus_titles.append(row['articles_title'])"
   ]
  },
  {
   "cell_type": "code",
   "execution_count": null,
   "metadata": {},
   "outputs": [],
   "source": []
  },
  {
   "cell_type": "code",
   "execution_count": 9,
   "metadata": {},
   "outputs": [],
   "source": [
    "relevant_words_text = find_categories_and_top20(corpus_text, extra_words)"
   ]
  },
  {
   "cell_type": "code",
   "execution_count": null,
   "metadata": {},
   "outputs": [],
   "source": [
    "relevant_words_title = find_categories_and_top20(corpus_titles, extra_words)"
   ]
  },
  {
   "cell_type": "code",
   "execution_count": null,
   "metadata": {},
   "outputs": [],
   "source": []
  },
  {
   "cell_type": "code",
   "execution_count": null,
   "metadata": {},
   "outputs": [],
   "source": [
    "create_lda_page(relevant_words_text, \"lda_text.html\")"
   ]
  },
  {
   "cell_type": "code",
   "execution_count": null,
   "metadata": {},
   "outputs": [],
   "source": [
    "create_lda_page(relevant_words_title, \"lda_title.html\")"
   ]
  },
  {
   "cell_type": "code",
   "execution_count": null,
   "metadata": {},
   "outputs": [],
   "source": [
    "#b = [[2*x for y in a] for x in y]\n",
    "#c = [[2*x for x in y] for y in a]\n",
    "#[[int(x) for x in feet] for x in feet]"
   ]
  },
  {
   "cell_type": "code",
   "execution_count": null,
   "metadata": {},
   "outputs": [],
   "source": []
  },
  {
   "cell_type": "code",
   "execution_count": null,
   "metadata": {},
   "outputs": [],
   "source": [
    "## tf-idf vectorization process"
   ]
  },
  {
   "cell_type": "code",
   "execution_count": 10,
   "metadata": {},
   "outputs": [],
   "source": [
    "relevant_words_text_string = [\" \".join(y) for y in relevant_words_text]"
   ]
  },
  {
   "cell_type": "code",
   "execution_count": 11,
   "metadata": {},
   "outputs": [],
   "source": [
    "# create dictionary: map candidate to list of articles they appear in\n",
    "articles_per_candidate = {}\n",
    "\n",
    "for i in range(len(all_data)):\n",
    "    candidate_name = all_data[\"first_name\"][i] + \" \" + all_data[\"last_name\"][i]\n",
    "    if candidate_name in articles_per_candidate:\n",
    "        articles_per_candidate[candidate_name].append(i)\n",
    "    else:\n",
    "        articles_per_candidate[candidate_name] = [i]\n",
    "    "
   ]
  },
  {
   "cell_type": "code",
   "execution_count": null,
   "metadata": {},
   "outputs": [],
   "source": []
  },
  {
   "cell_type": "code",
   "execution_count": null,
   "metadata": {},
   "outputs": [],
   "source": []
  },
  {
   "cell_type": "code",
   "execution_count": null,
   "metadata": {},
   "outputs": [],
   "source": []
  },
  {
   "cell_type": "code",
   "execution_count": 12,
   "metadata": {},
   "outputs": [],
   "source": [
    "from sklearn.feature_extraction.text import TfidfVectorizer\n",
    "\n",
    "tf = TfidfVectorizer(analyzer='word', ngram_range=(1,1), min_df = 0, stop_words = 'english')\n",
    "\n",
    "tfidf_matrix =  tf.fit_transform(relevant_words_text_string)\n",
    "feature_names = tf.get_feature_names()\n",
    "\n",
    "dense = tfidf_matrix.todense()\n"
   ]
  },
  {
   "cell_type": "code",
   "execution_count": 13,
   "metadata": {},
   "outputs": [
    {
     "name": "stdout",
     "output_type": "stream",
     "text": [
      "Bo Copley\n"
     ]
    }
   ],
   "source": [
    "top_20_per_candidate = {}\n",
    "\n",
    "for person in articles_per_candidate:\n",
    "    candidate_articles = articles_per_candidate[person]\n",
    "    summed_values = [0]*len(feature_names)\n",
    "    \n",
    "    phrase_scores = []\n",
    "    sorted_scores = []\n",
    "    word_val_pair = []\n",
    "    for article_id in candidate_articles:\n",
    "        article_vector = dense[article_id].tolist()[0]\n",
    "        summed_values = [x+y for x,y in zip(summed_values,article_vector)]\n",
    "        \n",
    "    pairs = list(zip(range(0, len(feature_names)), summed_values))\n",
    "\n",
    "    phrase_scores = [pair for pair in pairs if pair[1] > 0]\n",
    "        \n",
    "    sorted_scores = sorted(phrase_scores, key=lambda x: x[1], reverse=True)[0:20]\n",
    "\n",
    "    word_val_pair = []\n",
    "    for phrase, score in [(feature_names[word_id], score) for (word_id, score) in sorted_scores][:]:\n",
    "        word_val_pair.append((phrase,score))\n",
    "    \n",
    "    top_20_per_candidate[person] = word_val_pair"
   ]
  },
  {
   "cell_type": "code",
   "execution_count": 14,
   "metadata": {},
   "outputs": [
    {
     "data": {
      "text/plain": [
       "{\"Beto O'Rourke\": [('rep', 4.175245438168791),\n",
       "  ('democrat', 2.852917810250115),\n",
       "  ('texas', 2.5415666310047373),\n",
       "  ('republican', 2.5241566464505234),\n",
       "  ('state', 2.2917785345340187),\n",
       "  ('trump', 2.120021172763093),\n",
       "  ('say', 2.0560374719281893),\n",
       "  ('primary', 1.9749754456594555),\n",
       "  ('race', 1.921741218333795),\n",
       "  ('democratic', 1.8332502610103554),\n",
       "  ('win', 1.7176413602903562),\n",
       "  ('sen', 1.6755793350425225),\n",
       "  ('seat', 1.521439184481938),\n",
       "  ('incumbent', 1.4617482530834573),\n",
       "  ('veteran', 1.386488659950414),\n",
       "  ('election', 1.3537148831083983),\n",
       "  ('run', 1.3433226753107186),\n",
       "  ('campaign', 1.261145940539877),\n",
       "  ('senate', 1.2298122135531726),\n",
       "  ('vote', 1.1471382030235528)],\n",
       " 'Bo Copley': [('coal', 3.0903225060595556),\n",
       "  ('pm', 1.736928202829196),\n",
       "  ('mrs', 1.3563290888562776),\n",
       "  ('west', 1.3133860654298262),\n",
       "  ('clinton', 1.2894071186200653),\n",
       "  ('church', 1.0504855044151347),\n",
       "  ('say', 0.9999949350277741),\n",
       "  ('miner', 0.9253563282217441),\n",
       "  ('trump', 0.9163083270742752),\n",
       "  ('st', 0.8803393559704209),\n",
       "  ('tomorrow', 0.8649470156181339),\n",
       "  ('houston', 0.863150956134918),\n",
       "  ('company', 0.852309457389457),\n",
       "  ('center', 0.7296079253131714),\n",
       "  ('new', 0.7273938920746247),\n",
       "  ('manhattan', 0.7113556601708828),\n",
       "  ('williamson', 0.6795067223266968),\n",
       "  ('industry', 0.6491439082871758),\n",
       "  ('director', 0.5829447985897808),\n",
       "  ('city', 0.5824167710374917)],\n",
       " 'Bob McNeil': [('cotter', 1.3622608010880157),\n",
       "  ('johnson', 1.1812067559635397),\n",
       "  ('new', 1.0524497209455075),\n",
       "  ('brooklyn', 0.9240913124452955),\n",
       "  ('work', 0.8853763409018296),\n",
       "  ('schwendener', 0.8492936833515987),\n",
       "  ('chinen', 0.834535615764799),\n",
       "  ('east', 0.7779578750834419),\n",
       "  ('include', 0.7477494860376633),\n",
       "  ('reed', 0.7293827360505875),\n",
       "  ('modern', 0.7013167561714585),\n",
       "  ('york', 0.6959631512112759),\n",
       "  ('image', 0.6827141502571102),\n",
       "  ('metmuseumorg', 0.682375348001147),\n",
       "  ('pm', 0.6814937033842072),\n",
       "  ('object', 0.6599739430392915),\n",
       "  ('fifth', 0.6381170905005427),\n",
       "  ('present', 0.6341336531197445),\n",
       "  ('city', 0.5994126797823405),\n",
       "  ('space', 0.5935262533098781)],\n",
       " 'Carl Bible': [('nobel', 0.798853399552608),\n",
       "  ('academy', 0.6646540165740824),\n",
       "  ('starboard', 0.46760076298308756),\n",
       "  ('woman', 0.46465250170620087),\n",
       "  ('swedish', 0.40892314944574326),\n",
       "  ('resignation', 0.40817198796041715),\n",
       "  ('cricketer', 0.4074554659207168),\n",
       "  ('honour', 0.4074554659207168),\n",
       "  ('circulation', 0.3930806606673227),\n",
       "  ('dean', 0.3744818548219198),\n",
       "  ('prize', 0.35226071493993805),\n",
       "  ('zuckerberg', 0.3487897971776539),\n",
       "  ('institution', 0.34457235724631663),\n",
       "  ('say', 0.33953374980670725),\n",
       "  ('newell', 0.3341594014712048),\n",
       "  ('actor', 0.3262863675266508),\n",
       "  ('award', 0.3222032069679298),\n",
       "  ('king', 0.3221816874016949),\n",
       "  ('embroil', 0.31471707773056207),\n",
       "  ('body', 0.3100901017573314)],\n",
       " 'Corey Stewart': [('gillespie', 3.727034426849133),\n",
       "  ('virginia', 3.264113548848899),\n",
       "  ('county', 3.135849284377082),\n",
       "  ('say', 3.0412297894811773),\n",
       "  ('trump', 2.9636024732763366),\n",
       "  ('immigration', 2.8135905610459435),\n",
       "  ('campaign', 2.685435073130485),\n",
       "  ('republican', 1.9917447179396206),\n",
       "  ('state', 1.9581096072949014),\n",
       "  ('illegal', 1.9166174626410095),\n",
       "  ('northam', 1.9110169635535559),\n",
       "  ('police', 1.87775087537328),\n",
       "  ('immigrant', 1.8578094920698756),\n",
       "  ('prince', 1.8337573890770462),\n",
       "  ('perriello', 1.7578859934362852),\n",
       "  ('william', 1.7454015898335762),\n",
       "  ('officer', 1.6605664080006841),\n",
       "  ('monument', 1.5536738603680222),\n",
       "  ('federal', 1.5120224777145974),\n",
       "  ('law', 1.507764742371581)],\n",
       " 'Don Blankenship': [('massey', 3.1207880364629985),\n",
       "  ('safety', 2.647824651653439),\n",
       "  ('say', 2.187105499373896),\n",
       "  ('explosion', 2.089319789517446),\n",
       "  ('sentence', 2.000842995087896),\n",
       "  ('coal', 1.7292636617803576),\n",
       "  ('upper', 1.707790587804056),\n",
       "  ('branch', 1.6087501861208928),\n",
       "  ('prosecutor', 1.5931698573506479),\n",
       "  ('prison', 1.579868742484791),\n",
       "  ('big', 1.3694938282541134),\n",
       "  ('blankenships', 1.356359552311425),\n",
       "  ('fine', 1.3479568605603227),\n",
       "  ('violate', 1.3278688956754),\n",
       "  ('ceo', 1.2538786387254537),\n",
       "  ('company', 1.2487963287619455),\n",
       "  ('convict', 1.2085506974021503),\n",
       "  ('willfully', 1.2053162209162775),\n",
       "  ('conspiracy', 1.1762187151976584),\n",
       "  ('misdemeanor', 1.164883125598596)],\n",
       " 'Evan Jenkins': [('border', 2.011098977320535),\n",
       "  ('guard', 1.7440616873890713),\n",
       "  ('say', 1.7385725760690975),\n",
       "  ('troop', 1.3295357142027393),\n",
       "  ('state', 1.1738765047084336),\n",
       "  ('teacher', 1.0641769302584372),\n",
       "  ('republican', 0.976089730124593),\n",
       "  ('team', 0.921801421158799),\n",
       "  ('video', 0.897269568908372),\n",
       "  ('hockey', 0.8458890536493334),\n",
       "  ('mexico', 0.7484082816967064),\n",
       "  ('member', 0.7439138483709061),\n",
       "  ('new', 0.7273310311321249),\n",
       "  ('article', 0.7205072345307196),\n",
       "  ('monday', 0.7182410856475837),\n",
       "  ('reddit', 0.7136961902690643),\n",
       "  ('national', 0.7111988381761386),\n",
       "  ('headphone', 0.691220010908097),\n",
       "  ('use', 0.6897765508694003),\n",
       "  ('send', 0.6792039277576866)],\n",
       " 'Jack Newbrough': [('article', 3.2677000510669805),\n",
       "  ('timesmachine', 3.0442715617530993),\n",
       "  ('digitize', 1.9256469639965985),\n",
       "  ('view', 1.4745963137457423),\n",
       "  ('text', 1.3188860371889084),\n",
       "  ('available', 1.238275571359855),\n",
       "  ('geo', 1.129078455710834),\n",
       "  ('hollins', 1.129078455710834),\n",
       "  ('colebrooke', 0.9666396820708452),\n",
       "  ('detainee', 0.6458143672820841),\n",
       "  ('death', 0.6126605068211433),\n",
       "  ('medical', 0.5446554692370863),\n",
       "  ('immigration', 0.49198057902988973),\n",
       "  ('jail', 0.4877327276453544),\n",
       "  ('baptism', 0.4833198410354226),\n",
       "  ('strafford', 0.4833198410354226),\n",
       "  ('wale', 0.4833198410354226),\n",
       "  ('king', 0.4808682014561782),\n",
       "  ('detention', 0.4291880456647714),\n",
       "  ('din', 0.42830655058273526)],\n",
       " 'Joe Manchin': [('say', 4.1037435418923645),\n",
       "  ('sen', 3.4445533701328093),\n",
       "  ('democrat', 3.236684678269035),\n",
       "  ('trump', 3.143917615308608),\n",
       "  ('republican', 2.7501402544031643),\n",
       "  ('vote', 2.5917832595240804),\n",
       "  ('gun', 2.2227233219615545),\n",
       "  ('west', 2.0197299883654796),\n",
       "  ('democratic', 1.8541860533724224),\n",
       "  ('president', 1.8240089147848202),\n",
       "  ('senate', 1.798017626001394),\n",
       "  ('virginia', 1.743220249915686),\n",
       "  ('yes', 1.7270723041747527),\n",
       "  ('tax', 1.7228256262537769),\n",
       "  ('state', 1.6957408173509871),\n",
       "  ('primary', 1.6737886796210237),\n",
       "  ('senator', 1.5781708630722004),\n",
       "  ('cavuto', 1.4324117819583566),\n",
       "  ('people', 1.2553776537162569),\n",
       "  ('make', 1.2258034162265423)],\n",
       " 'Patrick Morrisey': [('trump', 3.0120867613751323),\n",
       "  ('climate', 2.8798370615082844),\n",
       "  ('state', 2.5322768654823555),\n",
       "  ('say', 2.5063588537375665),\n",
       "  ('coal', 2.236768328503765),\n",
       "  ('west', 1.8366102022229671),\n",
       "  ('republican', 1.8250281411572735),\n",
       "  ('primary', 1.4010818712060207),\n",
       "  ('attorney', 1.3236593705108965),\n",
       "  ('virginia', 1.1998252465871648),\n",
       "  ('general', 1.1763197621116945),\n",
       "  ('agreement', 1.1630170781777531),\n",
       "  ('bannon', 1.1188859034948948),\n",
       "  ('change', 1.1140143391117134),\n",
       "  ('democratic', 1.1006738235601914),\n",
       "  ('sen', 1.0791964683454673),\n",
       "  ('rep', 1.0731717308811046),\n",
       "  ('vote', 1.0568638400383359),\n",
       "  ('paris', 1.0383443839871274),\n",
       "  ('incumbent', 1.0233292829465623)],\n",
       " 'Ted Cruz': [('trump', 8.110289569852778),\n",
       "  ('say', 7.444087597181706),\n",
       "  ('sen', 6.130880740547749),\n",
       "  ('republican', 6.105655102437345),\n",
       "  ('president', 3.833069324365229),\n",
       "  ('yes', 3.692126716115701),\n",
       "  ('senate', 3.5202102204608985),\n",
       "  ('vote', 3.2109465124803727),\n",
       "  ('democrat', 3.0015557415092227),\n",
       "  ('house', 2.9858731377405947),\n",
       "  ('care', 2.9501186304962155),\n",
       "  ('senator', 2.8062659885723393),\n",
       "  ('campaign', 2.727063384457617),\n",
       "  ('conservative', 2.651401574922076),\n",
       "  ('people', 2.57396492975683),\n",
       "  ('texas', 2.5162248397009632),\n",
       "  ('make', 2.451970339269187),\n",
       "  ('health', 2.407155143557828),\n",
       "  ('gop', 2.359358845144732),\n",
       "  ('cnn', 2.294487667464956)],\n",
       " 'Tim Kaine': [('say', 9.912102974085144),\n",
       "  ('clinton', 9.350169835014457),\n",
       "  ('trump', 8.913034044039431),\n",
       "  ('sen', 7.2018892889951225),\n",
       "  ('democrat', 6.767512839738807),\n",
       "  ('republican', 5.627446145392762),\n",
       "  ('vote', 5.280900834448347),\n",
       "  ('campaign', 5.181681761379082),\n",
       "  ('democratic', 5.169441149525979),\n",
       "  ('state', 4.935259725812075),\n",
       "  ('president', 4.677996966893581),\n",
       "  ('senate', 4.515096166874693),\n",
       "  ('virginia', 4.125962920930436),\n",
       "  ('election', 3.657365302812661),\n",
       "  ('new', 3.5894565863520618),\n",
       "  ('cnn', 3.318757175263138),\n",
       "  ('congress', 3.3162940689275096),\n",
       "  ('authorization', 3.221768126938612),\n",
       "  ('northam', 3.0264871979730836),\n",
       "  ('war', 2.979099425739127)],\n",
       " 'Tom Willis': [('brady', 1.0822102964696487),\n",
       "  ('smith', 1.0519773903805707),\n",
       "  ('marilyn', 0.8854356264037615),\n",
       "  ('documentary', 0.8009085116949947),\n",
       "  ('jaguar', 0.7278080705474256),\n",
       "  ('patriot', 0.7035994975116601),\n",
       "  ('plimpton', 0.6691668994469896),\n",
       "  ('story', 0.6162164142129344),\n",
       "  ('mcdonald', 0.5760608077425056),\n",
       "  ('select', 0.5725022376268074),\n",
       "  ('mother', 0.5618506824454056),\n",
       "  ('man', 0.5347990632958767),\n",
       "  ('world', 0.5322953009872302),\n",
       "  ('say', 0.5282266006849984),\n",
       "  ('lee', 0.5165051432553783),\n",
       "  ('marriage', 0.5007127705392102),\n",
       "  ('mcfadden', 0.48874919134180556),\n",
       "  ('norwich', 0.48874919134180556),\n",
       "  ('tale', 0.4867064757744134),\n",
       "  ('director', 0.4797244451390307)]}"
      ]
     },
     "execution_count": 14,
     "metadata": {},
     "output_type": "execute_result"
    }
   ],
   "source": [
    "top_20_per_candidate"
   ]
  },
  {
   "cell_type": "code",
   "execution_count": null,
   "metadata": {},
   "outputs": [],
   "source": []
  },
  {
   "cell_type": "code",
   "execution_count": null,
   "metadata": {},
   "outputs": [],
   "source": []
  },
  {
   "cell_type": "code",
   "execution_count": null,
   "metadata": {},
   "outputs": [],
   "source": [
    "from sklearn.cluster import KMeans\n",
    "\n",
    "k = 10\n",
    "km = KMeans(n_clusters=k, init='k-means++', max_iter=100, n_init=5,\n",
    "                verbose=1)\n",
    "km.fit(tfidf_matrix)"
   ]
  },
  {
   "cell_type": "code",
   "execution_count": null,
   "metadata": {},
   "outputs": [],
   "source": []
  },
  {
   "cell_type": "code",
   "execution_count": null,
   "metadata": {},
   "outputs": [],
   "source": [
    "from yellowbrick.text import TSNEVisualizer\n",
    "\n",
    "tsne = TSNEVisualizer()\n",
    "tsne.fit(tfidf_matrix)\n",
    "tsne.poof()"
   ]
  }
 ],
 "metadata": {
  "kernelspec": {
   "display_name": "Python 3",
   "language": "python",
   "name": "python3"
  },
  "language_info": {
   "codemirror_mode": {
    "name": "ipython",
    "version": 3
   },
   "file_extension": ".py",
   "mimetype": "text/x-python",
   "name": "python",
   "nbconvert_exporter": "python",
   "pygments_lexer": "ipython3",
   "version": "3.6.4"
  }
 },
 "nbformat": 4,
 "nbformat_minor": 2
}
