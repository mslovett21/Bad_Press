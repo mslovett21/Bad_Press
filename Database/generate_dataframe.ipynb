{
 "cells": [
  {
   "cell_type": "code",
   "execution_count": null,
   "metadata": {},
   "outputs": [],
   "source": [
    "import pandas as pd\n",
    "from pandas import DataFrame, Series\n",
    "import numpy as np\n",
    "import string\n",
    "\n",
    "from clean_data import*\n",
    "from add_summary import*\n",
    "from find_category import*\n",
    "from get_popularity import*\n",
    "from get_sentiment import*"
   ]
  },
  {
   "cell_type": "code",
   "execution_count": null,
   "metadata": {},
   "outputs": [],
   "source": [
    "## the following tables appear in order according to the functions in model.py"
   ]
  },
  {
   "cell_type": "code",
   "execution_count": 2,
   "metadata": {},
   "outputs": [],
   "source": [
    "## source table: newspaper information\n",
    "source=DataFrame(columns=[\"id\", \"name\", \"URL_logo\"])\n",
    "\n",
    "source1=pd.DataFrame([[1, \"CNN\", \"http://www.logospike.com/wp-content/uploads/2014/11/Cnn_logo-2.png\"],\n",
    "                      [2, \"FoxNews\", \"https://upload.wikimedia.org/wikipedia/commons/d/d4/Fox_News_Channel_logo.png\"],\n",
    "                      [3, \"New York Times\", \"http://1000logos.net/wp-content/uploads/2017/04/Logo-New-York-Times.jpg\"]],columns=[\"id\", \"name\", \"URL_logo\"])\n",
    "\n",
    "source=source.append(source1)\n",
    "\n",
    "\n",
    "## state table: state information\n",
    "state=DataFrame(columns=[\"id\", \"name\", \"URL_logo\",\"primaries_date\"])\n",
    "\n",
    "state1=pd.DataFrame([[1, \"West Virginia\", \"https://www.united-states-flag.com/media/catalog/product/cache/2/image/9df78eab33525d08d6e5fb8d27136e95/w/e/westvirginia-nylon_1.jpg\", \"May 8 2018\"],\n",
    "                     [2, \"Virginia\", \"https://www.50states.com/images/redesign/flags/va-largeflag.png\", \"June 12 2018\"],\n",
    "                     [3, \"Texas\", \"https://en.wikipedia.org/wiki/Flag_of_Texas#/media/File:Flag_of_Texas.svg\", \"NA\"]], \n",
    "                    columns=[\"id\", \"name\", \"URL_logo\",\"primaries_date\" ])\n",
    "\n",
    "state=state.append(state1)\n",
    "\n",
    "\n",
    "## issue table: main issues and a descriptions\n",
    "\n",
    "issue=DataFrame(columns=[\"id\", \"name\",\"info\",\"URL_logo\"])\n",
    "\n",
    "issue1=pd.DataFrame([[1, \"Gun Law\", \"Gun laws in the United States regulate the sale, possession, and use of firearms and ammunition. State laws (and the laws of Washington, D.C. and the U.S. territories) vary considerably, and are independent of existing federal firearms laws, although they are sometimes broader or more limited in scope than the federal laws. State level laws vary significantly in their form, content, and level of restriction. Forty-four states have a provision in their state constitutions similar to the Second Amendment to the U.S. Constitution, which protects the right to keep and bear arms. The exceptions are California, Iowa, Maryland, Minnesota, New Jersey, and New York. In New York, however, the statutory civil rights laws contain a provision virtually identical to the Second Amendment. Additionally, the U.S. Supreme Court held in McDonald v. Chicago that the protections of the Second Amendment to keep and bear arms for self-defense in one's home apply against state governments and their political subdivisions.\", \"https://cdn.cltampa.com/files/base/scomm/cltampa/image/2018/03/640w/gun_law.5aa311dbc246a.jpg\"],\n",
    "                     [2, \"Immigration\",\"Immigration is the international movement of people into a destination country of which they are not natives or where they do not possess citizenship in order to settle or reside there, especially as permanent residents or naturalized citizens, or to take-up employment as a migrant worker or temporarily as a foreign worker.As for economic effects, research suggests that migration is beneficial both to the receiving and sending countries. Research, with few exceptions, finds that immigration on average has positive economic effects on the native population, but is mixed as to whether low-skilled immigration adversely affects low-skilled natives. Studies show that the elimination of barriers to migration would have profound effects on world GDP, with estimates of gains ranging between 67 and 147 percent. Development economists argue that reducing barriers to labor mobility between developing countries and developed countries would be one of the most efficient tools of poverty reduction.\" ,\"http://toledocitypaper.com/wp-content/uploads/2017/03/immigrants-toledo-refugees-protest.jpg\"],\n",
    "                     [3, \"Foreign Policy\", \"A country's foreign policy, also called foreign relations or foreign affairs policy, consists of self-interest strategies chosen by the state to safeguard its national interests and to achieve goals within its international relations milieu. The approaches are strategically employed to interact with other countries. The study of such strategies is called foreign policy analysis. In recent times, due to the deepening level of globalization and transnational activities, the states will also have to interact with non-state actors. The aforementioned interaction is evaluated and monitored in attempts to maximize benefits of multilateral international cooperation. Since the national interests are paramount, foreign policies are designed by the government through high-level decision making processes. National interests accomplishment can occur as a result of peaceful cooperation with other nations, or through exploitation. Usually, creating foreign policy is the job of the head of government and the foreign minister (or equivalent).\", \"https://bacon.house.gov/sites/bacon.house.gov/files/styles/congress_featured_image/public/featured_image/issues/Foreign%20Policy.png?itok=UVYCCIOO\"],\n",
    "                     [4, \"Economy\", \"An economy is an area of the production, distribution, or trade[1], and consumption of goods and services by different agents. Understood in its broadest sense, 'The economy is defined as a social domain that emphasizes the practices, discourses, and material expressions associated with the production, use, and management of resources'.[2] Economic agents can be individuals, businesses, organizations, or governments. Economic transactions occur when two parties agree to the value or price of the transacted good or service, commonly expressed in a certain currency. However, monetary transactions only account for a small part of the economic domain. Economic activity is spurred by production which uses natural resources, labor, and capital. It has changed over time due to technology (automation, accelerator of process, reduction of cost functions), innovation (new products, services, processes, new markets, expanding markets, diversification of markets, niche markets, increases revenue functions) such as, that which produces intellectual property and changes in industrial relations (for example, child labor being replaced in some parts of the world with universal access to education).\", \"http://media.al.com/news_impact/photo/economy-2014jpg-886912a5cd9c9100.jpg\"],\n",
    "                     [5, \"Crime\", \"In ordinary language, a crime is an unlawful act punishable by a state or other authority. The term crime does not, in modern criminal law, have any simple and universally accepted definition, though statutory definitions have been provided for certain purposes.The most popular view is that crime is a category created by law; in other words, something is a crime if declared as such by the relevant and applicable law.One proposed definition is that a crime or offence (or criminal offence) is an act harmful not only to some individual but also to a community, society or the state (a public wrong). Such acts are forbidden and punishable by law.\", \"https://www.brennancenter.org/sites/default/files/styles/individual_node_page/public/blog/crime%20cuffs.jpg?itok=WP0o5xht\"]] ,\n",
    "                    columns=[\"id\", \"name\", \"info\",\"URL_logo\" ])\n",
    "\n",
    "\n",
    "issue=issue.append(issue1)\n",
    "\n",
    "\n",
    "## article table: TBD\n",
    "# FK: candidate, issue, state, source\n",
    "# link, summary, date (datefield)\n",
    "# sentiment (int), \n",
    "\n",
    "## candidate table: name, biographical details, etc.\n",
    "candidate=DataFrame(columns=[\"id\", \"name\",\"state\",\"date_of_birth\", \"place_birth\", \"position\", \"URL_photo\", \"party\",\"first_name\",\"last_name\"])\n",
    "\n",
    "candidate1=pd.DataFrame([[1, \"Don Blankenship\",\"West_Virginia\", \"1950-03-14\", \"Stopover Kentucky\", \"Coal magnate\", \"https://i2.wp.com/woay.tv/wp-content/uploads/2017/05/GTY_don_blankenship_jt_160406_4x3_992.jpg?resize=735%2C400&ssl=1\",\"r\",\"Don\", \"Blankenship\"],\n",
    "                     [2, \"Bo Copley\",\"West_Virginia\", \"1900-01-01\", \"Dingess West Virginia\", \"Coal Miner\",\"https://heavyeditorial.files.wordpress.com/2017/05/bo-copley-e1494012597984.jpg?quality=65&strip=all&w=780&strip=all\",\"r\",\"Bo\", \"Copley\"],\n",
    "                     [3, \"Evan Jenkins\",\"West_Virginia\", \"1960-09-12\", \"Huntington West Virginia\",\"U.S. House of Representatives\",\"https://www.congress.gov/img/member/114_rp_wv_3_jenkins_evan.jpg\",\"r\",\"Evan\", \"Jenkins\"],\n",
    "                     [4, \"Joe Manchin\",\"West_Virginia\", \"1947-08-24\", \"Farmington West Virginia\", \"United States Senator\", \"https://fi.wikipedia.org/wiki/Joe_Manchin#/media/File:Senator_Manchin.jpg\", \"d\",\"Joe\", \"Manchin\"],\n",
    "                     [5, \"Patrick Morrisey\",\"West_Virginia\",\"1967-12-21\",\"Brooklyn New York City NY\",\"West Virginia Attorney General since 2013\",\"http://wvmetronews.com/wordpress/wp-content/uploads/2016/02/Patrick-Morrisey.jpg?x43308\",\"r\",\"Patrick\", \"Morrisey\"],\n",
    "                     [6, \"Jack Newbrough\",\"West_Virginia\", \"1900-01-01\", \"U.S.\",\"U.S. Navy veteran\",\"http://s3.amazonaws.com/ogden_images/www.weirtondailytimes.com/images/2017/09/23190845/Newbrough-003-1100x825.jpg\" ,\"r\",\"Jack\", \"Newbrough\"],\n",
    "                     [7, \"Paula Jean Swearengin\", \"West_Virginia\", \"1973-01-01\",\"Mullens West Virginia\",\"Activist\",\"https://cbbba9d899c5f8ae6108-e379174d4d25dcb78174c6cab0a88cea.ssl.cf1.rackcdn.com/1275564-l.jpg\", \"d\",\"Paula Jean\", \"Swearengin\"],\n",
    "                     [8, \"Tom Willis\",\"West_Virginia\", \"1900-01-01\",\"U.S.\",\"Businessman\",\"https://api.ballotpedia.org/v3/thumbnail/200/300/crop/best/2C512069-7298-4BAC-B9F3-6BFECDC2FB57.jpeg\",\"r\",\"Tom\" ,\"Willis\"],\n",
    "                     [9, \"Nicholas Freitas\", \"Virginia\", \"1979-08-29\", \"Chico California\", \"Member of the Virginia House of Delegates\",\"https://api.ballotpedia.org/v3/thumbnail/200/300/crop/best/Nick_Freitas.jpg\",\"r\",\"Nicholas\", \"Freitas\"],\n",
    "                     [10, \"E. W. Jackson\", \"Virginia\",\"1952-01-13\",\"Chester Pennsylvania\",\"Lawyer\",\"http://www.standardnewswire.com/images/1248274804.jpg\",\"r\",\"E.W.\", \"Jackson\"],\n",
    "                     [11, \"Tim Kaine\", \"Virginia\", \"1958-02-26\", \"Saint Paul Minnesota\", \"United States Senator\", \"https://upload.wikimedia.org/wikipedia/commons/1/1d/Tim_Kaine%2C_official_113th_Congress_photo_portrait.jpg\", \"d\",\"Tim\", \"Kaine\"],\n",
    "                     [12, \"Corey Stewart\", \"Virginia\", \"1968-08-01\", \"Duluth Minnesota\", \"Lawyer\", \"http://www.pwcgov.org/government/bocs/PublishingImages/2012%20Official%20Portrait%20Chairman%20Stewart.jpg\", \"r\",\"Corey\", \"Stewart\"],\n",
    "                     [13, \"Matt Waters\", \"Virginia\", \"1900-01-01\", \"Newport News Virginia\", \"Director of Development at Students For Liberty\", \"https://api.ballotpedia.org/v3/thumbnail/200/300/crop/best/Matt_Waters.jpg\", \"o\",\"Matt\", \"Waters\"],\n",
    "                     [14, \"Carl Bible\", \"Texas\", \"1900-01-01\", \"Texas\", \"Businessman\", \"https://pbs.twimg.com/profile_images/928089633296023552/Vm-6G8IN_400x400.jpg\", \"i\",\"Carl\", \"Bible\"],\n",
    "                     [15, \"Ted Cruz\", \"Texas\", \"1970-12-22\", \"Calgary Alberta Canada\", \"United States Senator\", \"https://upload.wikimedia.org/wikipedia/commons/8/87/Ted_Cruz%2C_official_portrait%2C_113th_Congress.jpg\", \"r\",\"Ted\", \"Cruz\"],\n",
    "                     [16, \"Bob McNeil\", \"Texas\", \"1949-01-23\", \"Stuttgart Arkansas\", \"Businessman\", \"https://static1.squarespace.com/static/5987cd8617bffc6a2723b230/t/59b20ddff14aa1ef98ae1083/1508991634672/20170804+-+RAM+Portrait-Cropped-100dpi.JPG?format=300w\", \"o\",\"Bob\", \"McNeil\"],\n",
    "                     [17, \"Beto ORourke\", \"Texas\", \"1972-09-26\", \"El Paso Texas\", \"U.S. House of Representatives\", \"https://upload.wikimedia.org/wikipedia/commons/a/ad/Beto_O%27Rourke%2C_Official_portrait%2C_113th_Congress.jpg\", \"d\",\"Beto\", \"ORourke\"]],\n",
    "                        columns=[\"id\", \"name\",\"state\",\"date_of_birth\", \"place_birth\", \"position\", \"URL_photo\", \"party\",\"first_name\",\"last_name\"])\n",
    "\n",
    "candidate=candidate.append(candidate1)\n",
    "\n",
    "candidate[\"score_issue_1\"]=0.5\n",
    "candidate[\"score_issue_2\"]=0.5\n",
    "candidate[\"score_issue_3\"]=0.5\n",
    "candidate[\"score_issue_4\"]=0.5\n",
    "candidate[\"score_issue_5\"]=0.5\n",
    "\n",
    "names = candidate[\"name\"].tolist()\n",
    "first_names = [\" \".join(x.split()[0:-1]) for x in names]\n",
    "last_names = [x.split()[-1] for x in names]\n",
    "\n",
    "candidate[\"first_name\"] = first_names\n",
    "candidate[\"last_name\"] = last_names\n",
    "# date of birth (date field), scores (int)\n",
    "\n",
    "## cloud table: TBD\n",
    "# word_1 - word_20\n",
    "\n",
    "## popularity table:\n",
    "# jan to feb\n"
   ]
  },
  {
   "cell_type": "code",
   "execution_count": null,
   "metadata": {},
   "outputs": [],
   "source": []
  },
  {
   "cell_type": "code",
   "execution_count": null,
   "metadata": {},
   "outputs": [],
   "source": [
    "all_candidates = []\n",
    "for index,row in candidate.iterrows():\n",
    "    all_candidates.append(row['name'])\n",
    "#all_candidates.extend([\"EW Jackson\", \"Beto \"])"
   ]
  },
  {
   "cell_type": "code",
   "execution_count": null,
   "metadata": {},
   "outputs": [],
   "source": []
  },
  {
   "cell_type": "code",
   "execution_count": null,
   "metadata": {},
   "outputs": [],
   "source": [
    "folder = \"RAW_DATA/\"\n",
    "state_data_westvirginia = [\"cnn_westvirginia.json\",\"jsfoxnews_westvirginia.json\",\"nyt_westvirginia.json\"]\n",
    "state_data_virginia = [\"cnn_virginia.json\",\"jsfoxnews_virginia.json\",\"nyt_westvirginia.json\"]\n",
    "state_data_texas = [\"cnn_texas.json\",\"jsfoxnews_texas.json\",\"nyt_texas.json\"]\n",
    "\n",
    "candidate_data_missing = [\"cnn_general.json\", \"jsfoxnews_general.json\", \"nyt_general.json\"]\n",
    "\n",
    "#add in new data later...\n",
    "all_state_data = [state_data_westvirginia, state_data_virginia, state_data_texas, candidate_data_missing]\n"
   ]
  },
  {
   "cell_type": "code",
   "execution_count": null,
   "metadata": {},
   "outputs": [],
   "source": [
    "## script is hardcoded to take in data from the RAW_DATA file\n",
    "# this function takes in a list of candidates (string form) and a name of the output json file\n",
    "structure_data(folder, all_state_data, all_candidates, candidate, source, \"ALL_DATA_mixed.json\")"
   ]
  },
  {
   "cell_type": "code",
   "execution_count": null,
   "metadata": {},
   "outputs": [],
   "source": []
  },
  {
   "cell_type": "code",
   "execution_count": null,
   "metadata": {},
   "outputs": [],
   "source": [
    "key_words = [\"festival\", \"theater\", \"music\", \"concert\", \"dance\", \"performance\"\n",
    "                       , \"jazz\", \"band\", \"arts\", \"art\",\"museum\",\"painting\", \"artist\", \"exhibition\",\"gallery\", \"sculpture\"\n",
    "                       ,\"album\", \"film\", \"movie\", \"opera\", \"cookbook\", \"orchestra\"\n",
    "                       ,\"design\", \"photograph\", \"drawing\", \"design\"\n",
    "                       , \"production\",\"quartet\", \"series\", \"star\", \"feature\"\n",
    "                       ,\"village\", \"production\", \"season\", \"premiere\",\"ballet\", \"photograph\", \"drawing\", \"boat\"\n",
    "                       , \"symphony\", \"shakespeare\", \"repertory\",\"pop\", \"perform\", \"classical\", \"musical\"\n",
    "                       \"literature\", \"westworld\", \"obituary\", \"episode\", \"athlete\"]\n",
    "remove_irrelevant_articles(\"ALL_DATA_mixed.json\", key_words, \"ALL_DATA.json\")\n",
    "\n",
    "# this script takes an input file and creates a new json\n",
    "add_summary(\"ALL_DATA.json\", \"ALL_DATA_SUMM.json\")"
   ]
  },
  {
   "cell_type": "code",
   "execution_count": null,
   "metadata": {},
   "outputs": [],
   "source": [
    "''' weird articles\n",
    "Hidden volcanoes melt Antarctic glaciers from below, study finds\n",
    "Hockey Bus Crash Victims Include Respected Coach, Captain 3\n",
    "Today in History 3\n",
    "Corrections: April 10, 2018 3\n",
    "How to Stay on Top of Breaking News 3\n",
    "WHERE MERRY TONGUES TATTLE; What Wet the Wireless.\n",
    "61 ATHLETES IN COMPETITION.; ANNUAL GAMES OF THE MONTGOMERY CLUB OF JERSEY CITY.\n",
    "Obituary 1 -- No Title\n",
    "2 for 22: McCutchen Walks Off SF Again, This Time vs D-Backs\n",
    "65 EDMUND C. ALBERT--ELIZABETH H. RING.\n",
    "The Listings: Dec. 30 - Jan. 5\n",
    "ON THE ROAD; A City of Surprises, Not All Big\n",
    "Patriots End a Week of Hand-Wringing With Another A.F.C. Crown\n",
    "‘The Assassination of Gianni Versace’ Episode 3: Death or Disgrace?\n",
    "77 DealBook Briefing: Blue Apron’s Co-Founder Steps Down as C.E.O.\n",
    "78 DealBook Briefing: Pass-Throughs vs. Corporations — Who’s the Bigger Winner?\n",
    "80 Gossip From the Liz Smith Memorial, Just the Way She’d Want It\n",
    "The Latest: Suspect to be charged with capital murder\n",
    "NFL Network analyst suggests Eagles put bounty on Ezekiel Elliott in bizarre rant\n",
    "Obituary 1 -- No Title 6\n",
    "333 Today in History 14\n",
    "392 Washington knows that 🏀 is life 11\n",
    "416 Who is Sam Nunberg? 15\n",
    "\n",
    "397 West Virginia Senate hopefuls take center stage ahead of Fox News debate\"], \"articles_text\": [\"MORGANTOWN, W.Va. –  Sen. Mitch McConnell, R-Ky. is the leader of the Senate. But one Republican primary candidate is talking about the longtime Kentucky lawmaker like he’s the leader of a drug cartel. “One of my goals as U.S. Senator will be to ditch cocaine Mitch,” candidate Don Blankenship declared at the end of a new campaign ad. The origins of “cocaine Mitch,” according to the campaign, are rooted in accusations of drug smuggling on Chinese ships associated with the family of McConnell’s wife, Transportation Secretary Elaine Chao. The narcotic-themed nickname enters the dialogue on the eve of a nationally televised debate at 6:30 p.m. Tuesday on Fox News Channel. Blankenship will be joined on stage in Morgantown by Rep. Evan Jenkins, R-W.Va. and West Virginia Attorney General Patrick Morrisey. Considered a toss-up in the midterm elections, the West Virginia Senate race is one where Republicans hope to have the chance to unseat incumbent Joe Manchin, a Democrat who first won the seat in a 2010 special election. According to a Fox News poll, three Republicans are considered to be “top tier” candidates ahead of the May 8 primary: Blankenship, Evan Jenkins and Patrick Morrisey. Jenkins, a U.S. congressman, topped the list of Republican contenders. But the race is getting national attention because a group with ties to GOP leadership, the Mountain Families PAC, has spent at least $1.3 million to try to derail Blankenship’s candidacy. Operatives fear the year in prison the former coal baron recently served on a conspiracy to violate mine safety standards, tied to the 2010 Upper Big Branch mine disaster that killed 29, may jeopardize an opportunity to unseat Manchin. Blankenship shrugs off the impact of the intra-party effort to keep him off the November ballot. “I think it probably moves me up a little bit,” Blankenship said of the ads blanketing TV and radio broadcasts, calling him “convicted criminal Don Blankenship.”  “I don’t think Mitch McConnell realizes,” he said, “how anti-him and how anti-the establishment West Virginians are.” While Blankenship's bid is a long shot, he's testing whether a party led by an anti-establishment outsider can rein in its anti-establishment impulses. \"The establishment, no matter who you define it as, has not been creating jobs in West Virginia,\" Blankenship said at a primary debate this past week. Jenkins, who leads the field of Republicans, has been a congressman for three years and served as a state senator in West Virginia for 12 years. Morrisey is the first Republican to serve as attorney general in the state since 1933, according to his campaign website. Manchin is not running unopposed; he races a primary challenger in Paula Jean Swearengin, an environmental activist whose platform is more in line with Sen. Bernie Sanders, the progressive independent from Vermont. President Trump beat Democrat Hillary Clinton by more than 40 points in the Mountain State in the 2016 presidential election. The state has long been considered a prime pickup opportunity for Republicans, who hold a two-seat Senate majority that suddenly feels less secure given signs of Democratic momentum in Nevada, Arizona, Tennessee and elsewhere. If Democrats can win West Virginia, which gave Trump his largest margin of victory in the nation, they may have a slim chance at seizing the Senate majority. 7\n",
    "'''"
   ]
  },
  {
   "cell_type": "code",
   "execution_count": null,
   "metadata": {},
   "outputs": [],
   "source": []
  },
  {
   "cell_type": "code",
   "execution_count": null,
   "metadata": {},
   "outputs": [],
   "source": [
    "## category analysis"
   ]
  },
  {
   "cell_type": "code",
   "execution_count": null,
   "metadata": {},
   "outputs": [],
   "source": [
    "# call script to generate categories and \n",
    "\n",
    "all_candidates_str = [x.split() for x in all_candidates]\n",
    "all_candidates_str = [x.lower() for y in all_candidates_str for x in y]\n",
    "all_candidates_str.append(\"ORourke\".lower())\n",
    "extra_words = [\"like\", \"it’s\", \"uh\", \"going\", \"that’s\", \"think\", \"actually\", \"kind\", \"…\", \"know\", \"come\", \"u\", \"really\"\n",
    "                       ,\"mr\", \"june\", \"july\", \"august\", \"aug\", \"festival\", \"theater\", \"music\", \"concert\", \"dance\", \"performance\"\n",
    "                       , \"jazz\", \"band\", \"arts\", \"art\",\"museum\",\"painting\", \"artist\", \"exhibition\",\"gallery\", \"ms\", \"sculpture\"\n",
    "                       , \"tell\", \"also\",\"thats\", \"im\", \"album\", \"film\", \"movie\", \"opera\", \"cookbook\", \"orchestra\", \"play\"\n",
    "                       , \"street\", \"design\", \"photograph\", \"drawing\", \"collection\", \"street\", \"design\", \"direct\", \"jan\", \"may\",\"summer\"\n",
    "                       , \"season\", \"production\", \"park\", \"oct\", \"show\", \"quartet\", \"series\", \"may\", \"star\", \"feature\", \"tonight\"\n",
    "                       , \"avenue\", \"village\", \"production\", \"summer\", \"season\", \"premiere\",\"ballet\", \"photograph\", \"drawing\", \"boat\"\n",
    "                       , \"symphony\", \"shakespeare\", \"repertory\",\"pop\", \"perform\", \"perform\", \"night\", \"classical\", \"guest\", \"musical\"\n",
    "                       ,\"january\", \"jan\", \"february\", \"feb\", \"march\", \"mar\", \"april\", \"apr\",\"may\", \"june\", \"july\", \"august\", \"aug\"\n",
    "                       ,\"september\", \"sept\", \"october\", \"oct\", \"november\", \"nov\", \"december\", \"dec\", \"literature\"]\n",
    "\n",
    "extra_words.extend(all_candidates_str)\n",
    "\n",
    "## the following is a script that reads the most recent all_data json,  \n",
    "## and produces a json with 20 top words\n",
    "find_top_20(extra_words, candidate, \"ALL_DATA_SUMM.json\", \"TOP_20_WORDS.json\", \"TOP_20_VALS.json\")"
   ]
  },
  {
   "cell_type": "code",
   "execution_count": null,
   "metadata": {},
   "outputs": [],
   "source": []
  },
  {
   "cell_type": "code",
   "execution_count": null,
   "metadata": {},
   "outputs": [],
   "source": [
    "create_popularity_json(candidate, \"ALL_DATA_SUMM.json\", \"POPULARITY.json\")"
   ]
  },
  {
   "cell_type": "code",
   "execution_count": null,
   "metadata": {},
   "outputs": [],
   "source": [
    "update_date(\"ALL_DATA_SUMM.json\", \"ALL_DATA_DATE.json\")"
   ]
  },
  {
   "cell_type": "code",
   "execution_count": null,
   "metadata": {},
   "outputs": [],
   "source": [
    "get_sentiment(\"ALL_DATA_DATE.json\", \"ALL_DATA_SENT.json\", candidate)"
   ]
  },
  {
   "cell_type": "code",
   "execution_count": null,
   "metadata": {},
   "outputs": [],
   "source": [
    "add_category(\"set_2_data/testfile_tagged.txt\", \"set_2_data/ALL_DATA_SENT.json\", \"ALL_DATA_CAT.json\")"
   ]
  },
  {
   "cell_type": "code",
   "execution_count": null,
   "metadata": {},
   "outputs": [],
   "source": [
    "with open(\"candidate.json\", 'w') as f:\n",
    "        f.write(candidate.to_json(orient = \"records\"))"
   ]
  },
  {
   "cell_type": "code",
   "execution_count": 3,
   "metadata": {},
   "outputs": [],
   "source": [
    "candidate = add_sentiment_to_candidate(\"set_2_data/ALL_DATA_CAT.json\", \"set_2_data/candidate.json\", \"candidate_with_sent.json\")"
   ]
  },
  {
   "cell_type": "code",
   "execution_count": null,
   "metadata": {},
   "outputs": [],
   "source": []
  },
  {
   "cell_type": "code",
   "execution_count": null,
   "metadata": {},
   "outputs": [],
   "source": [
    "### TO CSV "
   ]
  },
  {
   "cell_type": "code",
   "execution_count": null,
   "metadata": {},
   "outputs": [],
   "source": [
    "popularity_df = pd.read_json(\"set_2_data/POPULARITY.json\")\n",
    "popularity_df = popularity_df[['april', 'may', 'june', 'july', 'august','september','october','november','december','january',\n",
    "                        'february','march', 'last_name']]\n",
    "popularity_df.to_csv(\"popularity.csv\", header=False,index=False)"
   ]
  },
  {
   "cell_type": "code",
   "execution_count": null,
   "metadata": {},
   "outputs": [],
   "source": [
    "x = \"word\"\n",
    "columns = [\"id\"]\n",
    "y = [x+\"_\"+str(i) for i in range(1,21)]\n",
    "columns.extend(y)\n",
    "columns.append('last_name')\n",
    "\n",
    "\n",
    "cloud_df = pd.read_json(\"set_2_data/TOP_20_WORDS.json\")\n",
    "cloud_df = cloud_df.sort_values([\"id\"])\n",
    "cloud_df = reorder_df(cloud_df)\n",
    "cloud_df = cloud_df[columns]\n",
    "cloud_df.to_csv(\"cloud.csv\", header=False, index=False)"
   ]
  },
  {
   "cell_type": "code",
   "execution_count": null,
   "metadata": {},
   "outputs": [],
   "source": [
    "all_data_raw = pd.read_json(\"set_2_data/ALL_DATA_CAT.json\")\n",
    "all_data_raw.columns\n",
    "all_data=all_data_raw.rename(index=str, columns={\"candidate_fk\": \"candidate\", \"state_fk\": \"state\", \"source_fk\":\"source\",\n",
    "                                   \"articles_link\": \"link\", \"articles_date\":\"date\", \"articles_title\":\"title\"})\n",
    "all_data = all_data.drop(['id', \"first_name\", \"last_name\",\"article_text\"],axis=1)\n",
    "all_data = all_data[[\"date\",\"link\",\"title\",\"candidate\", \"source\",\"state\", \"summary\",\"sentiment_score\",\"issue\" ]]\n",
    "\n",
    "all_data.to_csv(\"articles.csv\", index=False, sep='\\t', header=False)"
   ]
  },
  {
   "cell_type": "code",
   "execution_count": 4,
   "metadata": {},
   "outputs": [],
   "source": [
    "candidate = pd.read_json(\"candidate_with_sent.json\")\n",
    "candidate = candidate.drop(['id'],axis=1)\n",
    "candidate = candidate[[\"name\", \"state\",\"date_of_birth\",\"place_birth\",\"position\", \"URL_photo\",\"party\", \"first_name\",\"last_name\", \"score_issue_1\", \"score_issue_2\",\"score_issue_3\", \"score_issue_4\",\"score_issue_5\"]]\n",
    "candidate.to_csv(\"candidates.csv\")"
   ]
  },
  {
   "cell_type": "code",
   "execution_count": null,
   "metadata": {},
   "outputs": [],
   "source": [
    "pd.read_json"
   ]
  },
  {
   "cell_type": "code",
   "execution_count": null,
   "metadata": {},
   "outputs": [],
   "source": [
    "#b = [[2*x for y in a] for x in y]\n",
    "#c = [[2*x for x in y] for y in a]\n",
    "#[[int(x) for x in feet] for x in feet]"
   ]
  },
  {
   "cell_type": "code",
   "execution_count": null,
   "metadata": {},
   "outputs": [],
   "source": [
    "from sklearn.cluster import KMeans\n",
    "\n",
    "k = 10\n",
    "km = KMeans(n_clusters=k, init='k-means++', max_iter=100, n_init=5,\n",
    "                verbose=1)\n",
    "km.fit(tfidf_matrix)"
   ]
  },
  {
   "cell_type": "code",
   "execution_count": null,
   "metadata": {},
   "outputs": [],
   "source": [
    "from yellowbrick.text import TSNEVisualizer\n",
    "\n",
    "tsne = TSNEVisualizer()\n",
    "tsne.fit(tfidf_matrix)\n",
    "tsne.poof()"
   ]
  },
  {
   "cell_type": "code",
   "execution_count": null,
   "metadata": {},
   "outputs": [],
   "source": [
    "test_file = open(\"testfile.txt\",\"w\") \n",
    "for i in range((len(a))):\n",
    "    #print(type(a[\"id\"][i]),type(a[\"articles_link\"][i]))\n",
    "    #print(i, str(a[\"id\"][i]))\n",
    "    test_file.write(str(a[\"id\"][i]) + \" \" + a[\"articles_link\"][i] + '\\n')\n",
    "test_file.close()"
   ]
  },
  {
   "cell_type": "code",
   "execution_count": 14,
   "metadata": {},
   "outputs": [
    {
     "ename": "KeyError",
     "evalue": "0",
     "output_type": "error",
     "traceback": [
      "\u001b[0;31m---------------------------------------------------------------------------\u001b[0m",
      "\u001b[0;31mKeyError\u001b[0m                                  Traceback (most recent call last)",
      "\u001b[0;32m~/Envs/capstone/lib/python3.6/site-packages/pandas/core/indexes/base.py\u001b[0m in \u001b[0;36mget_loc\u001b[0;34m(self, key, method, tolerance)\u001b[0m\n\u001b[1;32m   2524\u001b[0m             \u001b[0;32mtry\u001b[0m\u001b[0;34m:\u001b[0m\u001b[0;34m\u001b[0m\u001b[0m\n\u001b[0;32m-> 2525\u001b[0;31m                 \u001b[0;32mreturn\u001b[0m \u001b[0mself\u001b[0m\u001b[0;34m.\u001b[0m\u001b[0m_engine\u001b[0m\u001b[0;34m.\u001b[0m\u001b[0mget_loc\u001b[0m\u001b[0;34m(\u001b[0m\u001b[0mkey\u001b[0m\u001b[0;34m)\u001b[0m\u001b[0;34m\u001b[0m\u001b[0m\n\u001b[0m\u001b[1;32m   2526\u001b[0m             \u001b[0;32mexcept\u001b[0m \u001b[0mKeyError\u001b[0m\u001b[0;34m:\u001b[0m\u001b[0;34m\u001b[0m\u001b[0m\n",
      "\u001b[0;32mpandas/_libs/index.pyx\u001b[0m in \u001b[0;36mpandas._libs.index.IndexEngine.get_loc\u001b[0;34m()\u001b[0m\n",
      "\u001b[0;32mpandas/_libs/index.pyx\u001b[0m in \u001b[0;36mpandas._libs.index.IndexEngine.get_loc\u001b[0;34m()\u001b[0m\n",
      "\u001b[0;32mpandas/_libs/hashtable_class_helper.pxi\u001b[0m in \u001b[0;36mpandas._libs.hashtable.PyObjectHashTable.get_item\u001b[0;34m()\u001b[0m\n",
      "\u001b[0;32mpandas/_libs/hashtable_class_helper.pxi\u001b[0m in \u001b[0;36mpandas._libs.hashtable.PyObjectHashTable.get_item\u001b[0;34m()\u001b[0m\n",
      "\u001b[0;31mKeyError\u001b[0m: 0",
      "\nDuring handling of the above exception, another exception occurred:\n",
      "\u001b[0;31mKeyError\u001b[0m                                  Traceback (most recent call last)",
      "\u001b[0;32m<ipython-input-14-9b0a873e9e01>\u001b[0m in \u001b[0;36m<module>\u001b[0;34m()\u001b[0m\n\u001b[1;32m      1\u001b[0m \u001b[0;32mfrom\u001b[0m \u001b[0madd_manual_articles\u001b[0m \u001b[0;32mimport\u001b[0m\u001b[0;34m*\u001b[0m\u001b[0;34m\u001b[0m\u001b[0m\n\u001b[1;32m      2\u001b[0m \u001b[0;34m\u001b[0m\u001b[0m\n\u001b[0;32m----> 3\u001b[0;31m \u001b[0madd_manual\u001b[0m\u001b[0;34m(\u001b[0m\u001b[0;34m\"extra_articles.json\"\u001b[0m\u001b[0;34m)\u001b[0m\u001b[0;34m\u001b[0m\u001b[0m\n\u001b[0m",
      "\u001b[0;32m~/Google Drive/Education/Undergraduate-HunterCollege/2017Summer-2018Spring/2018Spring/CSCI499/project/Database/add_manual_articles.py\u001b[0m in \u001b[0;36madd_manual\u001b[0;34m(output_file)\u001b[0m\n\u001b[1;32m     15\u001b[0m     \u001b[0mcontent\u001b[0m \u001b[0;34m=\u001b[0m \u001b[0;34m\" \"\u001b[0m\u001b[0;34m.\u001b[0m\u001b[0mjoin\u001b[0m\u001b[0;34m(\u001b[0m\u001b[0mcontent\u001b[0m\u001b[0;34m)\u001b[0m\u001b[0;34m\u001b[0m\u001b[0m\n\u001b[1;32m     16\u001b[0m     \u001b[0mnew_row\u001b[0m \u001b[0;34m=\u001b[0m \u001b[0mpd\u001b[0m\u001b[0;34m.\u001b[0m\u001b[0mDataFrame\u001b[0m\u001b[0;34m(\u001b[0m\u001b[0mcolumns\u001b[0m \u001b[0;34m=\u001b[0m \u001b[0mdf_columns\u001b[0m\u001b[0;34m)\u001b[0m\u001b[0;34m\u001b[0m\u001b[0m\n\u001b[0;32m---> 17\u001b[0;31m     \u001b[0mnew_row\u001b[0m\u001b[0;34m[\u001b[0m\u001b[0;36m0\u001b[0m\u001b[0;34m]\u001b[0m\u001b[0;34m[\u001b[0m\u001b[0;34m\"article_text\"\u001b[0m\u001b[0;34m]\u001b[0m \u001b[0;34m=\u001b[0m \u001b[0mcontent\u001b[0m\u001b[0;34m\u001b[0m\u001b[0m\n\u001b[0m\u001b[1;32m     18\u001b[0m     \u001b[0mnew_row\u001b[0m\u001b[0;34m[\u001b[0m\u001b[0;36m0\u001b[0m\u001b[0;34m]\u001b[0m\u001b[0;34m[\u001b[0m\u001b[0;34m\"articles_date\"\u001b[0m\u001b[0;34m]\u001b[0m \u001b[0;34m=\u001b[0m \u001b[0;34m\"16 3 2018\"\u001b[0m\u001b[0;34m\u001b[0m\u001b[0m\n\u001b[1;32m     19\u001b[0m     \u001b[0mnew_row\u001b[0m\u001b[0;34m[\u001b[0m\u001b[0;36m0\u001b[0m\u001b[0;34m]\u001b[0m\u001b[0;34m[\u001b[0m\u001b[0;34m\"articles_link\"\u001b[0m\u001b[0;34m]\u001b[0m \u001b[0;34m=\u001b[0m \u001b[0;34m\"http://www.foxnews.com/opinion/2018/03/16/gop-legislator-calls-out-democratic-hate-speech-on-second-amendment.html\"\u001b[0m\u001b[0;34m\u001b[0m\u001b[0m\n",
      "\u001b[0;32m~/Envs/capstone/lib/python3.6/site-packages/pandas/core/frame.py\u001b[0m in \u001b[0;36m__getitem__\u001b[0;34m(self, key)\u001b[0m\n\u001b[1;32m   2137\u001b[0m             \u001b[0;32mreturn\u001b[0m \u001b[0mself\u001b[0m\u001b[0;34m.\u001b[0m\u001b[0m_getitem_multilevel\u001b[0m\u001b[0;34m(\u001b[0m\u001b[0mkey\u001b[0m\u001b[0;34m)\u001b[0m\u001b[0;34m\u001b[0m\u001b[0m\n\u001b[1;32m   2138\u001b[0m         \u001b[0;32melse\u001b[0m\u001b[0;34m:\u001b[0m\u001b[0;34m\u001b[0m\u001b[0m\n\u001b[0;32m-> 2139\u001b[0;31m             \u001b[0;32mreturn\u001b[0m \u001b[0mself\u001b[0m\u001b[0;34m.\u001b[0m\u001b[0m_getitem_column\u001b[0m\u001b[0;34m(\u001b[0m\u001b[0mkey\u001b[0m\u001b[0;34m)\u001b[0m\u001b[0;34m\u001b[0m\u001b[0m\n\u001b[0m\u001b[1;32m   2140\u001b[0m \u001b[0;34m\u001b[0m\u001b[0m\n\u001b[1;32m   2141\u001b[0m     \u001b[0;32mdef\u001b[0m \u001b[0m_getitem_column\u001b[0m\u001b[0;34m(\u001b[0m\u001b[0mself\u001b[0m\u001b[0;34m,\u001b[0m \u001b[0mkey\u001b[0m\u001b[0;34m)\u001b[0m\u001b[0;34m:\u001b[0m\u001b[0;34m\u001b[0m\u001b[0m\n",
      "\u001b[0;32m~/Envs/capstone/lib/python3.6/site-packages/pandas/core/frame.py\u001b[0m in \u001b[0;36m_getitem_column\u001b[0;34m(self, key)\u001b[0m\n\u001b[1;32m   2144\u001b[0m         \u001b[0;31m# get column\u001b[0m\u001b[0;34m\u001b[0m\u001b[0;34m\u001b[0m\u001b[0m\n\u001b[1;32m   2145\u001b[0m         \u001b[0;32mif\u001b[0m \u001b[0mself\u001b[0m\u001b[0;34m.\u001b[0m\u001b[0mcolumns\u001b[0m\u001b[0;34m.\u001b[0m\u001b[0mis_unique\u001b[0m\u001b[0;34m:\u001b[0m\u001b[0;34m\u001b[0m\u001b[0m\n\u001b[0;32m-> 2146\u001b[0;31m             \u001b[0;32mreturn\u001b[0m \u001b[0mself\u001b[0m\u001b[0;34m.\u001b[0m\u001b[0m_get_item_cache\u001b[0m\u001b[0;34m(\u001b[0m\u001b[0mkey\u001b[0m\u001b[0;34m)\u001b[0m\u001b[0;34m\u001b[0m\u001b[0m\n\u001b[0m\u001b[1;32m   2147\u001b[0m \u001b[0;34m\u001b[0m\u001b[0m\n\u001b[1;32m   2148\u001b[0m         \u001b[0;31m# duplicate columns & possible reduce dimensionality\u001b[0m\u001b[0;34m\u001b[0m\u001b[0;34m\u001b[0m\u001b[0m\n",
      "\u001b[0;32m~/Envs/capstone/lib/python3.6/site-packages/pandas/core/generic.py\u001b[0m in \u001b[0;36m_get_item_cache\u001b[0;34m(self, item)\u001b[0m\n\u001b[1;32m   1840\u001b[0m         \u001b[0mres\u001b[0m \u001b[0;34m=\u001b[0m \u001b[0mcache\u001b[0m\u001b[0;34m.\u001b[0m\u001b[0mget\u001b[0m\u001b[0;34m(\u001b[0m\u001b[0mitem\u001b[0m\u001b[0;34m)\u001b[0m\u001b[0;34m\u001b[0m\u001b[0m\n\u001b[1;32m   1841\u001b[0m         \u001b[0;32mif\u001b[0m \u001b[0mres\u001b[0m \u001b[0;32mis\u001b[0m \u001b[0;32mNone\u001b[0m\u001b[0;34m:\u001b[0m\u001b[0;34m\u001b[0m\u001b[0m\n\u001b[0;32m-> 1842\u001b[0;31m             \u001b[0mvalues\u001b[0m \u001b[0;34m=\u001b[0m \u001b[0mself\u001b[0m\u001b[0;34m.\u001b[0m\u001b[0m_data\u001b[0m\u001b[0;34m.\u001b[0m\u001b[0mget\u001b[0m\u001b[0;34m(\u001b[0m\u001b[0mitem\u001b[0m\u001b[0;34m)\u001b[0m\u001b[0;34m\u001b[0m\u001b[0m\n\u001b[0m\u001b[1;32m   1843\u001b[0m             \u001b[0mres\u001b[0m \u001b[0;34m=\u001b[0m \u001b[0mself\u001b[0m\u001b[0;34m.\u001b[0m\u001b[0m_box_item_values\u001b[0m\u001b[0;34m(\u001b[0m\u001b[0mitem\u001b[0m\u001b[0;34m,\u001b[0m \u001b[0mvalues\u001b[0m\u001b[0;34m)\u001b[0m\u001b[0;34m\u001b[0m\u001b[0m\n\u001b[1;32m   1844\u001b[0m             \u001b[0mcache\u001b[0m\u001b[0;34m[\u001b[0m\u001b[0mitem\u001b[0m\u001b[0;34m]\u001b[0m \u001b[0;34m=\u001b[0m \u001b[0mres\u001b[0m\u001b[0;34m\u001b[0m\u001b[0m\n",
      "\u001b[0;32m~/Envs/capstone/lib/python3.6/site-packages/pandas/core/internals.py\u001b[0m in \u001b[0;36mget\u001b[0;34m(self, item, fastpath)\u001b[0m\n\u001b[1;32m   3841\u001b[0m \u001b[0;34m\u001b[0m\u001b[0m\n\u001b[1;32m   3842\u001b[0m             \u001b[0;32mif\u001b[0m \u001b[0;32mnot\u001b[0m \u001b[0misna\u001b[0m\u001b[0;34m(\u001b[0m\u001b[0mitem\u001b[0m\u001b[0;34m)\u001b[0m\u001b[0;34m:\u001b[0m\u001b[0;34m\u001b[0m\u001b[0m\n\u001b[0;32m-> 3843\u001b[0;31m                 \u001b[0mloc\u001b[0m \u001b[0;34m=\u001b[0m \u001b[0mself\u001b[0m\u001b[0;34m.\u001b[0m\u001b[0mitems\u001b[0m\u001b[0;34m.\u001b[0m\u001b[0mget_loc\u001b[0m\u001b[0;34m(\u001b[0m\u001b[0mitem\u001b[0m\u001b[0;34m)\u001b[0m\u001b[0;34m\u001b[0m\u001b[0m\n\u001b[0m\u001b[1;32m   3844\u001b[0m             \u001b[0;32melse\u001b[0m\u001b[0;34m:\u001b[0m\u001b[0;34m\u001b[0m\u001b[0m\n\u001b[1;32m   3845\u001b[0m                 \u001b[0mindexer\u001b[0m \u001b[0;34m=\u001b[0m \u001b[0mnp\u001b[0m\u001b[0;34m.\u001b[0m\u001b[0marange\u001b[0m\u001b[0;34m(\u001b[0m\u001b[0mlen\u001b[0m\u001b[0;34m(\u001b[0m\u001b[0mself\u001b[0m\u001b[0;34m.\u001b[0m\u001b[0mitems\u001b[0m\u001b[0;34m)\u001b[0m\u001b[0;34m)\u001b[0m\u001b[0;34m[\u001b[0m\u001b[0misna\u001b[0m\u001b[0;34m(\u001b[0m\u001b[0mself\u001b[0m\u001b[0;34m.\u001b[0m\u001b[0mitems\u001b[0m\u001b[0;34m)\u001b[0m\u001b[0;34m]\u001b[0m\u001b[0;34m\u001b[0m\u001b[0m\n",
      "\u001b[0;32m~/Envs/capstone/lib/python3.6/site-packages/pandas/core/indexes/base.py\u001b[0m in \u001b[0;36mget_loc\u001b[0;34m(self, key, method, tolerance)\u001b[0m\n\u001b[1;32m   2525\u001b[0m                 \u001b[0;32mreturn\u001b[0m \u001b[0mself\u001b[0m\u001b[0;34m.\u001b[0m\u001b[0m_engine\u001b[0m\u001b[0;34m.\u001b[0m\u001b[0mget_loc\u001b[0m\u001b[0;34m(\u001b[0m\u001b[0mkey\u001b[0m\u001b[0;34m)\u001b[0m\u001b[0;34m\u001b[0m\u001b[0m\n\u001b[1;32m   2526\u001b[0m             \u001b[0;32mexcept\u001b[0m \u001b[0mKeyError\u001b[0m\u001b[0;34m:\u001b[0m\u001b[0;34m\u001b[0m\u001b[0m\n\u001b[0;32m-> 2527\u001b[0;31m                 \u001b[0;32mreturn\u001b[0m \u001b[0mself\u001b[0m\u001b[0;34m.\u001b[0m\u001b[0m_engine\u001b[0m\u001b[0;34m.\u001b[0m\u001b[0mget_loc\u001b[0m\u001b[0;34m(\u001b[0m\u001b[0mself\u001b[0m\u001b[0;34m.\u001b[0m\u001b[0m_maybe_cast_indexer\u001b[0m\u001b[0;34m(\u001b[0m\u001b[0mkey\u001b[0m\u001b[0;34m)\u001b[0m\u001b[0;34m)\u001b[0m\u001b[0;34m\u001b[0m\u001b[0m\n\u001b[0m\u001b[1;32m   2528\u001b[0m \u001b[0;34m\u001b[0m\u001b[0m\n\u001b[1;32m   2529\u001b[0m         \u001b[0mindexer\u001b[0m \u001b[0;34m=\u001b[0m \u001b[0mself\u001b[0m\u001b[0;34m.\u001b[0m\u001b[0mget_indexer\u001b[0m\u001b[0;34m(\u001b[0m\u001b[0;34m[\u001b[0m\u001b[0mkey\u001b[0m\u001b[0;34m]\u001b[0m\u001b[0;34m,\u001b[0m \u001b[0mmethod\u001b[0m\u001b[0;34m=\u001b[0m\u001b[0mmethod\u001b[0m\u001b[0;34m,\u001b[0m \u001b[0mtolerance\u001b[0m\u001b[0;34m=\u001b[0m\u001b[0mtolerance\u001b[0m\u001b[0;34m)\u001b[0m\u001b[0;34m\u001b[0m\u001b[0m\n",
      "\u001b[0;32mpandas/_libs/index.pyx\u001b[0m in \u001b[0;36mpandas._libs.index.IndexEngine.get_loc\u001b[0;34m()\u001b[0m\n",
      "\u001b[0;32mpandas/_libs/index.pyx\u001b[0m in \u001b[0;36mpandas._libs.index.IndexEngine.get_loc\u001b[0;34m()\u001b[0m\n",
      "\u001b[0;32mpandas/_libs/hashtable_class_helper.pxi\u001b[0m in \u001b[0;36mpandas._libs.hashtable.PyObjectHashTable.get_item\u001b[0;34m()\u001b[0m\n",
      "\u001b[0;32mpandas/_libs/hashtable_class_helper.pxi\u001b[0m in \u001b[0;36mpandas._libs.hashtable.PyObjectHashTable.get_item\u001b[0;34m()\u001b[0m\n",
      "\u001b[0;31mKeyError\u001b[0m: 0"
     ]
    }
   ],
   "source": [
    "from add_manual_articles import*\n",
    "\n",
    "add_manual(\"extra_articles.json\")"
   ]
  },
  {
   "cell_type": "code",
   "execution_count": 13,
   "metadata": {},
   "outputs": [
    {
     "data": {
      "text/plain": [
       "'Republican Virginia state Delegate Nick Freitas gained national attention earlier this month after a video of a speech he made on the floor of the House of Delegates defending Second Amendment supporters against vicious attacks went viral.  In the speech, he fought back against the politically correct overreach that’s become all too common – specifically, Democrats in the Virginia Legislature who demonized law-abiding citizens who support “the right of the people to keep and bear Arms” guaranteed by the  Second Amendment of the U.S. Constitution.  A video of Freitas’ floor speech has received 15 million views on his Facebook page, where he said: “For several days now, some Democrats in the Virginia House of Delegates have made public speeches comparing those of us who take our oath to the Constitution seriously, to include the Second Amendment, to Nazis and segregationists.”  The speech given by Freitas, a former Army Green Beret who served two tours in Iraq, put him on the map virtually overnight in the Virginia U.S. Senate race, where he hopes to win the Republicans nomination to run against Democratic Sen. Tim Kaine in November.  Freitas’ action is a prime example of the inevitable, growing backlash against the political correctness that increasingly permeates every facet of our lives.  After the tragic shootings at Marjory Stoneman Douglas High School in Florida on Feb. 14 that claimed 17 lives, businesses were attacked and pressured to take a side against the National Rifle Association and its 5 million law-abiding members.  FedEx was the exception – pledging to keep discounts it offers to NRA members – but other companies caved to extreme, politically correct demands to take an anti-NRA stance.  Delta Airlines, headquartered in Atlanta, capitulated to the PC pressure, announcing it would no longer offer discounts to NRA members. The backlash was fierce as the Georgia Legislature removed a $40 million tax break for Delta as part of a tax cut package that eventually passed.  So to deny just 13 discounts, Delta flushed a $40 million tax break. Maybe Delta’s shareholders are as PC as its leadership; if not, expect the next shareholder meeting to be very interesting.  Are we really now living in a world where all private businesses are going to be forced to take sides on political hot-button issues?  The obsession with political correctness has invaded the entertainment world as well. As we’ve recently witnessed, the Academy Awards show was completely overrun by PC politics.  Every year it seems we see less entertainment and more political posturing by people paid to entertain us – not to deliver political lectures. This year, the ratings for the Oscars continued to plunge, down 20 percent from last year.  You would think liberal politicians, PC executives and Hollywood would’ve all gotten the memo by now: America’s backlash against political correctness is one reason why President Trump got elected. But these people don’t deal in facts. They’d rather double down and continue their bully tactics.  Freitas called for an honest dialogue of mutual respect in his speech, yet Democrats walked out. Democratic Delegate Joseph Lindsey said Freitas’ speech offended him more than he’s ever been offended since being elected to the House of Delegates, and Democratic Delegate Lamont Bagby said Freitas’ comments were “hateful and divisive.”  Specifically the Democrats were offended when Freitas argued the facts when pushing back against the character assassination of on the left. Freitas said: \"It was not our party that supported slavery, that fought women\\'s suffrage, that rounded up tens of thousands of Asian Americans and put them in concentrations camps, that supported Jim Crow, that supported segregation, or supported mass resistance – that wasn\\'t our party, that was the Democrat Party.”  The truth hurts.  This is the road of “tolerance,” laced with political correctness and rank hypocrisy, that says we can call you a Nazi and a segregationist but when you throw facts back at us and try to have a respectful dialogue, that road becomes a one-way street.  Freitas spoke passionately about looking beyond gun control as a solution to school shootings. He noted that gun-free zones have not deterred gun violence in schools. In addition, he encouraged long overdue scrutiny into policies enacted by liberals that have led to broken homes.  In this age of politically correct overreach attempting to infiltrate every part of society, it is a breath of fresh air to see an elected leader with the courage to start an honest, respectful dialogue built upon undeniable truths.  Delegate Freitas displayed courage we can only hope to have when he served in Iraq as a soldier defending our country. It’s refreshing to see a leader who won’t be bullied by politicians in a state legislature – or the U.S. Senate, where we just might see him next year.'"
      ]
     },
     "execution_count": 13,
     "metadata": {},
     "output_type": "execute_result"
    }
   ],
   "source": [
    "with open(\"manual_articles/freitas_1.txt\") as f:\n",
    "        content = f.readlines()\n",
    "content = [x.strip() for x in content]\n",
    "content = \" \".join(content)\n",
    "content"
   ]
  }
 ],
 "metadata": {
  "kernelspec": {
   "display_name": "Python 3",
   "language": "python",
   "name": "python3"
  },
  "language_info": {
   "codemirror_mode": {
    "name": "ipython",
    "version": 3
   },
   "file_extension": ".py",
   "mimetype": "text/x-python",
   "name": "python",
   "nbconvert_exporter": "python",
   "pygments_lexer": "ipython3",
   "version": "3.6.4"
  }
 },
 "nbformat": 4,
 "nbformat_minor": 2
}
