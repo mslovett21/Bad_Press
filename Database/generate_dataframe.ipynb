{
 "cells": [
  {
   "cell_type": "code",
   "execution_count": 1,
   "metadata": {},
   "outputs": [],
   "source": [
    "import pandas as pd\n",
    "from pandas import DataFrame, Series\n",
    "import numpy as np\n",
    "import string\n",
    "from clean_data import*"
   ]
  },
  {
   "cell_type": "code",
   "execution_count": null,
   "metadata": {},
   "outputs": [],
   "source": []
  },
  {
   "cell_type": "code",
   "execution_count": 2,
   "metadata": {},
   "outputs": [],
   "source": [
    "candidate=DataFrame(columns=[\"id\", \"name\",\"state_fk\",\"date_birth\", \"place_birth\", \"position\", \"URL_photo\", \"party\"])\n",
    "\n",
    "candidate1=pd.DataFrame([[1, \"Don Blankenship\",1, \"March 14, 1950\", \"Stopover, Kentucky\", \"Coal magnate\", \"https://i2.wp.com/woay.tv/wp-content/uploads/2017/05/GTY_don_blankenship_jt_160406_4x3_992.jpg?resize=735%2C400&ssl=1\",\"Republican\" ],\n",
    "                     [2, \"Bo Copley\",1, \"\", \" Dingess, West Virginia\", \"\",\"https://heavyeditorial.files.wordpress.com/2017/05/bo-copley-e1494012597984.jpg?quality=65&strip=all&w=780&strip=all\",\"Republican\" ],\n",
    "                     [3, \"Evan Jenkins\",1, \"September 12, 1960\", \"Huntington, West Virginia\",\"U.S. House of Representatives\",\"https://www.congress.gov/img/member/114_rp_wv_3_jenkins_evan.jpg\",\"Republican\"  ],\n",
    "                     [4, \"Joe Manchin\",1, \" August 24, 1947\", \"Farmington, West Virginia\", \"United States Senator\", \"https://fi.wikipedia.org/wiki/Joe_Manchin#/media/File:Senator_Manchin.jpg\", \"Democrat\"],\n",
    "                     [5, \"Patrick Morrisey\",1,\"December 21, 1967\",\"Brooklyn, New York City, NY\",\"West Virginia Attorney General since 2013\",\"http://wvmetronews.com/wordpress/wp-content/uploads/2016/02/Patrick-Morrisey.jpg?x43308\",\"Republican\"  ],\n",
    "                     [6, \"Jack Newbrough\",1, \"\", \"\",\"U.S. Navy veteran\",\"http://s3.amazonaws.com/ogden_images/www.weirtondailytimes.com/images/2017/09/23190845/Newbrough-003-1100x825.jpg\" ,\"Republican\" ],\n",
    "                     [7, \"Paula Jean Swearengin\", 1, \"born 1973/74\",\"Mullens, West Virginia\",\"\",\"https://cbbba9d899c5f8ae6108-e379174d4d25dcb78174c6cab0a88cea.ssl.cf1.rackcdn.com/1275564-l.jpg\", \"Democrat\"],\n",
    "                     [8, \"Tom Willis\",1, \"\",\"\",\"\",\"https://api.ballotpedia.org/v3/thumbnail/200/300/crop/best/2C512069-7298-4BAC-B9F3-6BFECDC2FB57.jpeg\",\"Republican\" ],\n",
    "                     [9, \"Nicholas Freitas\", 2, \"\", \"\", \"\",\"\",\"Republican\"],\n",
    "                     [10, \"E. W. Jackson\", 2,\"\",\"\",\"\",\"\",\"Republican\"],\n",
    "                     [11, \"Tim Kaine\", 2, \"\", \"\", \"\", \"\", \"Democrat\"],\n",
    "                     [12, \"Corey Stewart\", 2, \"\", \"\", \"\", \"\", \"Republican\"],\n",
    "                     [13, \"Matt Waters\", 2, \"\", \"\", \"\", \"\", \"Libertarian\"],\n",
    "                     [14, \"Carl Bible\", 3, \"\", \"\", \"\", \"\", \"Independent\"],\n",
    "                     [15, \"Ted Cruz\", 3, \"\", \"\", \"\", \"\", \"Republican\"],\n",
    "                     [16, \"Bob McNeil\", 3, \"\", \"\", \"\", \"\", \"American Citizen Party\"],\n",
    "                     [17, \"Beto O'Rourke\", 3, \"\", \"\", \"\", \"\", \"Democrat\"]],\n",
    "                        columns=[\"id\", \"name\",\"state_fk\",\"date_birth\", \"place_birth\", \"position\",\"URL_photo\", \"party\"])\n",
    "candidate=candidate.append(candidate1)\n"
   ]
  },
  {
   "cell_type": "code",
   "execution_count": 3,
   "metadata": {},
   "outputs": [],
   "source": [
    "all_candidates = []\n",
    "for index,row in candidate.iterrows():\n",
    "    all_candidates.append(row['name'])"
   ]
  },
  {
   "cell_type": "code",
   "execution_count": null,
   "metadata": {},
   "outputs": [],
   "source": []
  },
  {
   "cell_type": "code",
   "execution_count": 4,
   "metadata": {},
   "outputs": [],
   "source": [
    "structure_data(all_candidates, \"article_data\")"
   ]
  },
  {
   "cell_type": "code",
   "execution_count": null,
   "metadata": {},
   "outputs": [],
   "source": []
  },
  {
   "cell_type": "code",
   "execution_count": null,
   "metadata": {},
   "outputs": [],
   "source": []
  },
  {
   "cell_type": "code",
   "execution_count": null,
   "metadata": {},
   "outputs": [],
   "source": []
  },
  {
   "cell_type": "code",
   "execution_count": null,
   "metadata": {},
   "outputs": [],
   "source": []
  },
  {
   "cell_type": "code",
   "execution_count": null,
   "metadata": {},
   "outputs": [],
   "source": []
  },
  {
   "cell_type": "code",
   "execution_count": null,
   "metadata": {},
   "outputs": [],
   "source": [
    "\n"
   ]
  },
  {
   "cell_type": "code",
   "execution_count": null,
   "metadata": {},
   "outputs": [],
   "source": []
  },
  {
   "cell_type": "markdown",
   "metadata": {},
   "source": []
  },
  {
   "cell_type": "code",
   "execution_count": null,
   "metadata": {},
   "outputs": [],
   "source": []
  },
  {
   "cell_type": "code",
   "execution_count": null,
   "metadata": {},
   "outputs": [],
   "source": []
  },
  {
   "cell_type": "code",
   "execution_count": null,
   "metadata": {},
   "outputs": [],
   "source": []
  },
  {
   "cell_type": "code",
   "execution_count": null,
   "metadata": {},
   "outputs": [],
   "source": []
  },
  {
   "cell_type": "code",
   "execution_count": null,
   "metadata": {},
   "outputs": [],
   "source": []
  },
  {
   "cell_type": "code",
   "execution_count": null,
   "metadata": {},
   "outputs": [],
   "source": []
  },
  {
   "cell_type": "code",
   "execution_count": null,
   "metadata": {},
   "outputs": [],
   "source": []
  },
  {
   "cell_type": "code",
   "execution_count": null,
   "metadata": {},
   "outputs": [],
   "source": []
  },
  {
   "cell_type": "code",
   "execution_count": null,
   "metadata": {},
   "outputs": [],
   "source": []
  },
  {
   "cell_type": "code",
   "execution_count": null,
   "metadata": {},
   "outputs": [],
   "source": []
  },
  {
   "cell_type": "code",
   "execution_count": null,
   "metadata": {},
   "outputs": [],
   "source": []
  },
  {
   "cell_type": "code",
   "execution_count": null,
   "metadata": {},
   "outputs": [],
   "source": []
  },
  {
   "cell_type": "code",
   "execution_count": null,
   "metadata": {},
   "outputs": [],
   "source": [
    "for i in range(1,10):\n",
    "    print(i)\n",
    "    if(i > 5):\n",
    "        break\n",
    "\"April\".lower() in [\"APRIL\", \"nov\"]"
   ]
  },
  {
   "cell_type": "code",
   "execution_count": null,
   "metadata": {},
   "outputs": [],
   "source": []
  },
  {
   "cell_type": "code",
   "execution_count": null,
   "metadata": {},
   "outputs": [],
   "source": [
    "a = [[1,2,3,4,5,6],[7,8,9]]\n",
    "\n"
   ]
  },
  {
   "cell_type": "code",
   "execution_count": null,
   "metadata": {},
   "outputs": [],
   "source": [
    "b = [[2*x for y in a] for x in y]\n",
    "b\n"
   ]
  },
  {
   "cell_type": "code",
   "execution_count": null,
   "metadata": {},
   "outputs": [],
   "source": [
    "c = [[2*x for x in y] for y in a]\n",
    "#[[int(x) for x in feet] for x in feet]\n",
    "c"
   ]
  },
  {
   "cell_type": "code",
   "execution_count": null,
   "metadata": {},
   "outputs": [],
   "source": [
    "\"hello\".replace('h','')"
   ]
  },
  {
   "cell_type": "code",
   "execution_count": null,
   "metadata": {},
   "outputs": [],
   "source": [
    "okay = {1:\"a\", 2:\"b\", 3:\"c\"}"
   ]
  },
  {
   "cell_type": "code",
   "execution_count": null,
   "metadata": {},
   "outputs": [],
   "source": [
    "for k in okay.keys():\n",
    "    print(k)"
   ]
  },
  {
   "cell_type": "code",
   "execution_count": null,
   "metadata": {},
   "outputs": [],
   "source": [
    "if int('5') in [1,2,5]:\n",
    "    print(1)"
   ]
  },
  {
   "cell_type": "code",
   "execution_count": null,
   "metadata": {},
   "outputs": [],
   "source": [
    "a[0][0:-1]"
   ]
  },
  {
   "cell_type": "code",
   "execution_count": null,
   "metadata": {},
   "outputs": [],
   "source": [
    "for i in range(len(a[0][0:-1])):\n",
    "    print(i)"
   ]
  },
  {
   "cell_type": "code",
   "execution_count": null,
   "metadata": {},
   "outputs": [],
   "source": [
    "next_try = [\"a\", \"b\", \"v\"]\n",
    "reform = \",\".join(next_try)\n",
    "reform"
   ]
  }
 ],
 "metadata": {
  "kernelspec": {
   "display_name": "Python 3",
   "language": "python",
   "name": "python3"
  },
  "language_info": {
   "codemirror_mode": {
    "name": "ipython",
    "version": 3
   },
   "file_extension": ".py",
   "mimetype": "text/x-python",
   "name": "python",
   "nbconvert_exporter": "python",
   "pygments_lexer": "ipython3",
   "version": "3.6.4"
  }
 },
 "nbformat": 4,
 "nbformat_minor": 2
}
