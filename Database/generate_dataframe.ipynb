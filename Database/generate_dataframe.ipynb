{
 "cells": [
  {
   "cell_type": "code",
   "execution_count": 1,
   "metadata": {},
   "outputs": [],
   "source": [
    "import pandas as pd\n",
    "from pandas import DataFrame, Series\n",
    "import numpy as np\n",
    "import string\n",
    "\n",
    "from clean_data import*\n",
    "from add_summary import*\n",
    "from find_category import*"
   ]
  },
  {
   "cell_type": "code",
   "execution_count": null,
   "metadata": {},
   "outputs": [],
   "source": [
    "## the following tables appear in order according to the functions in model.py"
   ]
  },
  {
   "cell_type": "code",
   "execution_count": 2,
   "metadata": {},
   "outputs": [],
   "source": [
    "## source table: newspaper information\n",
    "source=DataFrame(columns=[\"id\", \"name\", \"URL_logo\"])\n",
    "\n",
    "source1=pd.DataFrame([[1, \"CNN\", \"http://www.logospike.com/wp-content/uploads/2014/11/Cnn_logo-2.png\"],\n",
    "                      [2, \"FoxNews\", \"https://upload.wikimedia.org/wikipedia/commons/d/d4/Fox_News_Channel_logo.png\"],\n",
    "                      [3, \"New York Times\", \"http://1000logos.net/wp-content/uploads/2017/04/Logo-New-York-Times.jpg\"]],columns=[\"id\", \"name\", \"URL_logo\"])\n",
    "\n",
    "source=source.append(source1)\n",
    "\n",
    "\n",
    "## state table: state information\n",
    "state=DataFrame(columns=[\"id\", \"name\", \"URL_logo\",\"primaries_date\"])\n",
    "\n",
    "state1=pd.DataFrame([[1, \"West Virginia\", \"https://www.united-states-flag.com/media/catalog/product/cache/2/image/9df78eab33525d08d6e5fb8d27136e95/w/e/westvirginia-nylon_1.jpg\", \"May 8 2018\"],\n",
    "                     [2, \"Virginia\", \"https://www.50states.com/images/redesign/flags/va-largeflag.png\", \"June 12 2018\"],\n",
    "                     [3, \"Texas\", \"https://en.wikipedia.org/wiki/Flag_of_Texas#/media/File:Flag_of_Texas.svg\", \"NA\"]], \n",
    "                    columns=[\"id\", \"name\", \"URL_logo\",\"primaries_date\" ])\n",
    "\n",
    "state=state.append(state1)\n",
    "\n",
    "\n",
    "## issue table: main issues and a descriptions\n",
    "\n",
    "issue=DataFrame(columns=[\"id\", \"name\",\"info\",\"URL_logo\"])\n",
    "\n",
    "issue1=pd.DataFrame([[1, \"Gun Law\", \"Gun laws in the United States regulate the sale, possession, and use of firearms and ammunition. State laws (and the laws of Washington, D.C. and the U.S. territories) vary considerably, and are independent of existing federal firearms laws, although they are sometimes broader or more limited in scope than the federal laws. State level laws vary significantly in their form, content, and level of restriction. Forty-four states have a provision in their state constitutions similar to the Second Amendment to the U.S. Constitution, which protects the right to keep and bear arms. The exceptions are California, Iowa, Maryland, Minnesota, New Jersey, and New York. In New York, however, the statutory civil rights laws contain a provision virtually identical to the Second Amendment. Additionally, the U.S. Supreme Court held in McDonald v. Chicago that the protections of the Second Amendment to keep and bear arms for self-defense in one's home apply against state governments and their political subdivisions.\", \"https://cdn.cltampa.com/files/base/scomm/cltampa/image/2018/03/640w/gun_law.5aa311dbc246a.jpg\"],\n",
    "                     [2, \"Immigration\",\"Immigration is the international movement of people into a destination country of which they are not natives or where they do not possess citizenship in order to settle or reside there, especially as permanent residents or naturalized citizens, or to take-up employment as a migrant worker or temporarily as a foreign worker.As for economic effects, research suggests that migration is beneficial both to the receiving and sending countries. Research, with few exceptions, finds that immigration on average has positive economic effects on the native population, but is mixed as to whether low-skilled immigration adversely affects low-skilled natives. Studies show that the elimination of barriers to migration would have profound effects on world GDP, with estimates of gains ranging between 67 and 147 percent. Development economists argue that reducing barriers to labor mobility between developing countries and developed countries would be one of the most efficient tools of poverty reduction.\" ,\"http://toledocitypaper.com/wp-content/uploads/2017/03/immigrants-toledo-refugees-protest.jpg\"],\n",
    "                     [3, \"Foreign Policy\", \"A country's foreign policy, also called foreign relations or foreign affairs policy, consists of self-interest strategies chosen by the state to safeguard its national interests and to achieve goals within its international relations milieu. The approaches are strategically employed to interact with other countries. The study of such strategies is called foreign policy analysis. In recent times, due to the deepening level of globalization and transnational activities, the states will also have to interact with non-state actors. The aforementioned interaction is evaluated and monitored in attempts to maximize benefits of multilateral international cooperation. Since the national interests are paramount, foreign policies are designed by the government through high-level decision making processes. National interests accomplishment can occur as a result of peaceful cooperation with other nations, or through exploitation. Usually, creating foreign policy is the job of the head of government and the foreign minister (or equivalent).\", \"https://bacon.house.gov/sites/bacon.house.gov/files/styles/congress_featured_image/public/featured_image/issues/Foreign%20Policy.png?itok=UVYCCIOO\"],\n",
    "                     [4, \"Economy\", \"An economy is an area of the production, distribution, or trade[1], and consumption of goods and services by different agents. Understood in its broadest sense, 'The economy is defined as a social domain that emphasizes the practices, discourses, and material expressions associated with the production, use, and management of resources'.[2] Economic agents can be individuals, businesses, organizations, or governments. Economic transactions occur when two parties agree to the value or price of the transacted good or service, commonly expressed in a certain currency. However, monetary transactions only account for a small part of the economic domain. Economic activity is spurred by production which uses natural resources, labor, and capital. It has changed over time due to technology (automation, accelerator of process, reduction of cost functions), innovation (new products, services, processes, new markets, expanding markets, diversification of markets, niche markets, increases revenue functions) such as, that which produces intellectual property and changes in industrial relations (for example, child labor being replaced in some parts of the world with universal access to education).\", \"http://media.al.com/news_impact/photo/economy-2014jpg-886912a5cd9c9100.jpg\"],\n",
    "                     [5, \"Crime\", \"In ordinary language, a crime is an unlawful act punishable by a state or other authority. The term crime does not, in modern criminal law, have any simple and universally accepted definition, though statutory definitions have been provided for certain purposes.The most popular view is that crime is a category created by law; in other words, something is a crime if declared as such by the relevant and applicable law.One proposed definition is that a crime or offence (or criminal offence) is an act harmful not only to some individual but also to a community, society or the state (a public wrong). Such acts are forbidden and punishable by law.\", \"https://www.brennancenter.org/sites/default/files/styles/individual_node_page/public/blog/crime%20cuffs.jpg?itok=WP0o5xht\"]] ,\n",
    "                    columns=[\"id\", \"name\", \"info\",\"URL_logo\" ])\n",
    "\n",
    "\n",
    "issue=issue.append(issue1)\n",
    "\n",
    "\n",
    "## article table: TBD\n",
    "# FK: candidate, issue, state, source\n",
    "# link, summary, date (datefield)\n",
    "# sentiment (int), \n",
    "\n",
    "## candidate table: name, biographical details, etc.\n",
    "candidate=DataFrame(columns=[\"id\", \"name\",\"state_fk\",\"date_birth\", \"place_birth\", \"position\", \"URL_photo\", \"party\"])\n",
    "\n",
    "candidate1=pd.DataFrame([[1, \"Don Blankenship\",1, \"March 14, 1950\", \"Stopover, Kentucky\", \"Coal magnate\", \"https://i2.wp.com/woay.tv/wp-content/uploads/2017/05/GTY_don_blankenship_jt_160406_4x3_992.jpg?resize=735%2C400&ssl=1\",\"Republican\" ],\n",
    "                     [2, \"Bo Copley\",1, \"\", \" Dingess, West Virginia\", \"\",\"https://heavyeditorial.files.wordpress.com/2017/05/bo-copley-e1494012597984.jpg?quality=65&strip=all&w=780&strip=all\",\"Republican\" ],\n",
    "                     [3, \"Evan Jenkins\",1, \"September 12, 1960\", \"Huntington, West Virginia\",\"U.S. House of Representatives\",\"https://www.congress.gov/img/member/114_rp_wv_3_jenkins_evan.jpg\",\"Republican\"  ],\n",
    "                     [4, \"Joe Manchin\",1, \" August 24, 1947\", \"Farmington, West Virginia\", \"United States Senator\", \"https://fi.wikipedia.org/wiki/Joe_Manchin#/media/File:Senator_Manchin.jpg\", \"Democrat\"],\n",
    "                     [5, \"Patrick Morrisey\",1,\"December 21, 1967\",\"Brooklyn, New York City, NY\",\"West Virginia Attorney General since 2013\",\"http://wvmetronews.com/wordpress/wp-content/uploads/2016/02/Patrick-Morrisey.jpg?x43308\",\"Republican\"  ],\n",
    "                     [6, \"Jack Newbrough\",1, \"\", \"\",\"U.S. Navy veteran\",\"http://s3.amazonaws.com/ogden_images/www.weirtondailytimes.com/images/2017/09/23190845/Newbrough-003-1100x825.jpg\" ,\"Republican\" ],\n",
    "                     [7, \"Paula Jean Swearengin\", 1, \"born 1973/74\",\"Mullens, West Virginia\",\"\",\"https://cbbba9d899c5f8ae6108-e379174d4d25dcb78174c6cab0a88cea.ssl.cf1.rackcdn.com/1275564-l.jpg\", \"Democrat\"],\n",
    "                     [8, \"Tom Willis\",1, \"\",\"\",\"\",\"https://api.ballotpedia.org/v3/thumbnail/200/300/crop/best/2C512069-7298-4BAC-B9F3-6BFECDC2FB57.jpeg\",\"Republican\" ],\n",
    "                     [9, \"Nicholas Freitas\", 2, \"\", \"\", \"\",\"\",\"Republican\"],\n",
    "                     [10, \"E. W. Jackson\", 2,\"\",\"\",\"\",\"\",\"Republican\"],\n",
    "                     [11, \"Tim Kaine\", 2, \"\", \"\", \"\", \"\", \"Democrat\"],\n",
    "                     [12, \"Corey Stewart\", 2, \"\", \"\", \"\", \"\", \"Republican\"],\n",
    "                     [13, \"Matt Waters\", 2, \"\", \"\", \"\", \"\", \"Libertarian\"],\n",
    "                     [14, \"Carl Bible\", 3, \"\", \"\", \"\", \"\", \"Independent\"],\n",
    "                     [15, \"Ted Cruz\", 3, \"\", \"\", \"\", \"\", \"Republican\"],\n",
    "                     [16, \"Bob McNeil\", 3, \"\", \"\", \"\", \"\", \"American Citizen Party\"],\n",
    "                     [17, \"Beto O'Rourke\", 3, \"\", \"\", \"\", \"\", \"Democrat\"]],\n",
    "                        columns=[\"id\", \"name\",\"state_fk\",\"date_birth\", \"place_birth\", \"position\",\"URL_photo\", \"party\"])\n",
    "candidate=candidate.append(candidate1)\n",
    "\n",
    "candidate[\"score_issue_1\"]=0.5\n",
    "candidate[\"score_issue_2\"]=0.5\n",
    "candidate[\"score_issue_3\"]=0.5\n",
    "candidate[\"score_issue_4\"]=0.5\n",
    "candidate[\"score_issue_5\"]=0.5\n",
    "\n",
    "names = candidate[\"name\"].tolist()\n",
    "first_names = [\" \".join(x.split()[0:-1]) for x in names]\n",
    "last_names = [x.split()[-1] for x in names]\n",
    "\n",
    "candidate[\"first_name\"] = first_names\n",
    "candidate[\"last_name\"] = last_names\n",
    "# date of birth (date field), scores (int)\n",
    "\n",
    "## cloud table: TBD\n",
    "# word_1 - word_20\n",
    "\n",
    "## popularity table:\n",
    "# jan to feb\n"
   ]
  },
  {
   "cell_type": "code",
   "execution_count": null,
   "metadata": {},
   "outputs": [],
   "source": [
    "all_candidates = []\n",
    "for index,row in candidate.iterrows():\n",
    "    all_candidates.append(row['name'])\n",
    "#all_candidates.extend([\"EW Jackson\", \"Beto \"])"
   ]
  },
  {
   "cell_type": "code",
   "execution_count": null,
   "metadata": {},
   "outputs": [],
   "source": [
    "candidate"
   ]
  },
  {
   "cell_type": "code",
   "execution_count": null,
   "metadata": {},
   "outputs": [],
   "source": []
  },
  {
   "cell_type": "code",
   "execution_count": null,
   "metadata": {},
   "outputs": [],
   "source": []
  },
  {
   "cell_type": "code",
   "execution_count": null,
   "metadata": {},
   "outputs": [],
   "source": []
  },
  {
   "cell_type": "code",
   "execution_count": null,
   "metadata": {},
   "outputs": [],
   "source": [
    "## script is hardcoded to take in data from the RAW_DATA file\n",
    "# this function takes in a list of candidates (string form) and a name of the output json file\n",
    "structure_data(all_candidates, candidate, source, \"ALL_DATA.json\")"
   ]
  },
  {
   "cell_type": "code",
   "execution_count": null,
   "metadata": {},
   "outputs": [],
   "source": []
  },
  {
   "cell_type": "code",
   "execution_count": null,
   "metadata": {},
   "outputs": [],
   "source": []
  },
  {
   "cell_type": "code",
   "execution_count": null,
   "metadata": {},
   "outputs": [],
   "source": [
    "# this script takes an input file and creates a new json\n",
    "add_summary(\"ALL_DATA.json\", \"ALL_DATA_SUMM.json\")"
   ]
  },
  {
   "cell_type": "code",
   "execution_count": null,
   "metadata": {},
   "outputs": [],
   "source": []
  },
  {
   "cell_type": "code",
   "execution_count": null,
   "metadata": {},
   "outputs": [],
   "source": [
    "## category analysis"
   ]
  },
  {
   "cell_type": "code",
   "execution_count": null,
   "metadata": {},
   "outputs": [],
   "source": [
    "# call script to generate categories and \n",
    "\n",
    "all_candidates_str = [x.split() for x in all_candidates]\n",
    "all_candidates_str = [x.lower() for y in all_candidates_str for x in y]\n",
    "all_candidates_str.append(\"ORourke\".lower())\n",
    "extra_words = [\"like\", \"it’s\", \"uh\", \"going\", \"that’s\", \"think\", \"actually\", \"kind\", \"…\", \"know\", \"come\", \"u\", \"really\"\n",
    "                       ,\"mr\", \"june\", \"july\", \"august\", \"aug\", \"festival\", \"theater\", \"music\", \"concert\", \"dance\", \"performance\"\n",
    "                       , \"jazz\", \"band\", \"arts\", \"art\",\"museum\",\"painting\", \"artist\", \"exhibition\",\"gallery\", \"ms\", \"sculpture\"\n",
    "                       , \"tell\", \"also\",\"thats\", \"im\", \"album\", \"film\", \"movie\", \"opera\", \"cookbook\", \"orchestra\", \"play\"\n",
    "                       , \"street\", \"design\", \"photograph\", \"drawing\", \"collection\", \"street\", \"design\", \"direct\", \"jan\", \"may\",\"summer\"\n",
    "                       , \"season\", \"production\", \"park\", \"oct\", \"show\", \"quartet\", \"series\", \"may\", \"star\", \"feature\", \"tonight\"\n",
    "                       , \"avenue\", \"village\", \"production\", \"summer\", \"season\", \"premiere\",\"ballet\", \"photograph\", \"drawing\", \"boat\"\n",
    "                       , \"symphony\", \"shakespeare\", \"repertory\",\"pop\", \"perform\", \"perform\", \"night\", \"classical\", \"guest\", \"musical\"\n",
    "                       ,\"january\", \"jan\", \"february\", \"feb\", \"march\", \"mar\", \"april\", \"apr\",\"may\", \"june\", \"july\", \"august\", \"aug\"\n",
    "                       ,\"september\", \"sept\", \"october\", \"oct\", \"november\", \"nov\", \"december\", \"dec\", \"literature\"]\n",
    "\n",
    "extra_words.extend(all_candidates_str)\n"
   ]
  },
  {
   "cell_type": "code",
   "execution_count": null,
   "metadata": {},
   "outputs": [],
   "source": [
    "## the following is a script that reads the most recent all_data json,  \n",
    "## and produces a json with 20 top words"
   ]
  },
  {
   "cell_type": "code",
   "execution_count": null,
   "metadata": {},
   "outputs": [],
   "source": [
    "find_categories_and_top_20(extra_words, candidate, \"ALL_DATA_SUMM.json\", \"TOP_20_WORDS.json\", \"TOP_20_VALS.json\")"
   ]
  },
  {
   "cell_type": "code",
   "execution_count": null,
   "metadata": {},
   "outputs": [],
   "source": [
    "pd.read_json(\"ALL_DATA_SUMM.json\")"
   ]
  },
  {
   "cell_type": "code",
   "execution_count": null,
   "metadata": {},
   "outputs": [],
   "source": [
    "pd.read_json(\"TOP_20_VALS.json\")"
   ]
  },
  {
   "cell_type": "code",
   "execution_count": null,
   "metadata": {},
   "outputs": [],
   "source": []
  },
  {
   "cell_type": "code",
   "execution_count": 3,
   "metadata": {},
   "outputs": [
    {
     "name": "stdout",
     "output_type": "stream",
     "text": [
      "25\n"
     ]
    },
    {
     "ename": "TypeError",
     "evalue": "unsupported operand type(s) for +: 'int' and 'list'",
     "output_type": "error",
     "traceback": [
      "\u001b[0;31m---------------------------------------------------------------------------\u001b[0m",
      "\u001b[0;31mTypeError\u001b[0m                                 Traceback (most recent call last)",
      "\u001b[0;32m<ipython-input-3-174614067f83>\u001b[0m in \u001b[0;36m<module>\u001b[0;34m()\u001b[0m\n\u001b[1;32m      1\u001b[0m \u001b[0;32mfrom\u001b[0m \u001b[0mget_popularity\u001b[0m \u001b[0;32mimport\u001b[0m\u001b[0;34m*\u001b[0m\u001b[0;34m\u001b[0m\u001b[0m\n\u001b[1;32m      2\u001b[0m \u001b[0;34m\u001b[0m\u001b[0m\n\u001b[0;32m----> 3\u001b[0;31m \u001b[0mcreate_popularity_json\u001b[0m\u001b[0;34m(\u001b[0m\u001b[0mcandidate\u001b[0m\u001b[0;34m,\u001b[0m \u001b[0;34m\"ALL_DATA_SUMM.json\"\u001b[0m\u001b[0;34m,\u001b[0m \u001b[0;34m\"POPULARITY.json\"\u001b[0m\u001b[0;34m)\u001b[0m\u001b[0;34m\u001b[0m\u001b[0m\n\u001b[0m",
      "\u001b[0;32m~/Google Drive/Education/Undergraduate-HunterCollege/2017Summer-2018Spring/2018Spring/CSCI499/project/Database/get_popularity.py\u001b[0m in \u001b[0;36mcreate_popularity_json\u001b[0;34m(candidate_table, input_file, output_file)\u001b[0m\n\u001b[1;32m     50\u001b[0m         \u001b[0mcount_list\u001b[0m \u001b[0;34m=\u001b[0m \u001b[0;34m[\u001b[0m\u001b[0mcounts\u001b[0m\u001b[0;34m[\u001b[0m\u001b[0mx\u001b[0m\u001b[0;34m]\u001b[0m \u001b[0;32mfor\u001b[0m \u001b[0mx\u001b[0m \u001b[0;32min\u001b[0m \u001b[0mrange\u001b[0m\u001b[0;34m(\u001b[0m\u001b[0;36m1\u001b[0m\u001b[0;34m,\u001b[0m\u001b[0;36m13\u001b[0m\u001b[0;34m)\u001b[0m\u001b[0;34m]\u001b[0m\u001b[0;34m\u001b[0m\u001b[0m\n\u001b[1;32m     51\u001b[0m \u001b[0;34m\u001b[0m\u001b[0m\n\u001b[0;32m---> 52\u001b[0;31m         \u001b[0mrow_values\u001b[0m \u001b[0;34m=\u001b[0m \u001b[0mcandidate\u001b[0m \u001b[0;34m+\u001b[0m \u001b[0mcount_list\u001b[0m\u001b[0;34m\u001b[0m\u001b[0m\n\u001b[0m\u001b[1;32m     53\u001b[0m         \u001b[0mone_row\u001b[0m\u001b[0;34m.\u001b[0m\u001b[0mloc\u001b[0m\u001b[0;34m[\u001b[0m\u001b[0;36m0\u001b[0m\u001b[0;34m]\u001b[0m \u001b[0;34m=\u001b[0m \u001b[0mrow_values\u001b[0m\u001b[0;34m\u001b[0m\u001b[0m\n\u001b[1;32m     54\u001b[0m         \u001b[0mframes\u001b[0m \u001b[0;34m=\u001b[0m \u001b[0;34m[\u001b[0m\u001b[0mpopularity_table\u001b[0m\u001b[0;34m,\u001b[0m \u001b[0mone_row\u001b[0m\u001b[0;34m]\u001b[0m\u001b[0;34m\u001b[0m\u001b[0m\n",
      "\u001b[0;31mTypeError\u001b[0m: unsupported operand type(s) for +: 'int' and 'list'"
     ]
    }
   ],
   "source": [
    "from get_popularity import*\n",
    "\n",
    "create_popularity_json(candidate, \"ALL_DATA_SUMM.json\", \"POPULARITY.json\")"
   ]
  },
  {
   "cell_type": "code",
   "execution_count": null,
   "metadata": {},
   "outputs": [],
   "source": [
    "pd.read_json(\"POPULARITY.json\")"
   ]
  },
  {
   "cell_type": "code",
   "execution_count": null,
   "metadata": {},
   "outputs": [],
   "source": [
    "#b = [[2*x for y in a] for x in y]\n",
    "#c = [[2*x for x in y] for y in a]\n",
    "#[[int(x) for x in feet] for x in feet]"
   ]
  },
  {
   "cell_type": "code",
   "execution_count": null,
   "metadata": {},
   "outputs": [],
   "source": []
  },
  {
   "cell_type": "code",
   "execution_count": null,
   "metadata": {},
   "outputs": [],
   "source": []
  },
  {
   "cell_type": "code",
   "execution_count": null,
   "metadata": {},
   "outputs": [],
   "source": [
    "from sklearn.cluster import KMeans\n",
    "\n",
    "k = 10\n",
    "km = KMeans(n_clusters=k, init='k-means++', max_iter=100, n_init=5,\n",
    "                verbose=1)\n",
    "km.fit(tfidf_matrix)"
   ]
  },
  {
   "cell_type": "code",
   "execution_count": null,
   "metadata": {},
   "outputs": [],
   "source": []
  },
  {
   "cell_type": "code",
   "execution_count": null,
   "metadata": {},
   "outputs": [],
   "source": [
    "from yellowbrick.text import TSNEVisualizer\n",
    "\n",
    "tsne = TSNEVisualizer()\n",
    "tsne.fit(tfidf_matrix)\n",
    "tsne.poof()"
   ]
  }
 ],
 "metadata": {
  "kernelspec": {
   "display_name": "Python 3",
   "language": "python",
   "name": "python3"
  },
  "language_info": {
   "codemirror_mode": {
    "name": "ipython",
    "version": 3
   },
   "file_extension": ".py",
   "mimetype": "text/x-python",
   "name": "python",
   "nbconvert_exporter": "python",
   "pygments_lexer": "ipython3",
   "version": "3.6.4"
  }
 },
 "nbformat": 4,
 "nbformat_minor": 2
}
