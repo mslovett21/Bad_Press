{
 "cells": [
  {
   "cell_type": "code",
   "execution_count": null,
   "metadata": {},
   "outputs": [],
   "source": [
    "import pandas as pd\n",
    "from pandas import DataFrame, Series\n",
    "import numpy as np\n",
    "import string\n",
    "import random"
   ]
  },
  {
   "cell_type": "markdown",
   "metadata": {},
   "source": [
    "## STATE MODEL"
   ]
  },
  {
   "cell_type": "code",
   "execution_count": null,
   "metadata": {},
   "outputs": [],
   "source": [
    "state=DataFrame(columns=[\"id\", \"name\", \"URL_logo\",\"primaries_date\"])\n",
    "\n",
    "state1=pd.DataFrame([[1, \"West_Virginia\", \"https://www.united-states-flag.com/media/catalog/product/cache/2/image/9df78eab33525d08d6e5fb8d27136e95/w/e/westvirginia-nylon_1.jpg\", \"May 8 2018\"],\n",
    "                     [2, \"Virginia\", \"https://www.50states.com/images/redesign/flags/va-largeflag.png\", \"June 12 2018\"],\n",
    "                     [3, \"Texas\", \"https://en.wikipedia.org/wiki/Flag_of_Texas#/media/File:Flag_of_Texas.svg\", \"March 6 2018\"]], \n",
    "                    columns=[\"id\", \"name\", \"URL_logo\",\"primaries_date\" ])\n",
    "\n",
    "state=state.append(state1)"
   ]
  },
  {
   "cell_type": "code",
   "execution_count": null,
   "metadata": {},
   "outputs": [],
   "source": [
    "state = state.drop(['id'],axis=1)"
   ]
  },
  {
   "cell_type": "code",
   "execution_count": null,
   "metadata": {},
   "outputs": [],
   "source": [
    "state.to_csv(\"states.csv\", index=False)"
   ]
  },
  {
   "cell_type": "markdown",
   "metadata": {},
   "source": [
    "## SOURCE MODEL"
   ]
  },
  {
   "cell_type": "code",
   "execution_count": null,
   "metadata": {},
   "outputs": [],
   "source": [
    "source=DataFrame(columns=[\"id\", \"name\", \"URL_logo\"])\n",
    "\n",
    "source1=pd.DataFrame([[1, \"CNN\", \"http://www.logospike.com/wp-content/uploads/2014/11/Cnn_logo-2.png\"],\n",
    "                      [2, \"FoxNews\", \"https://upload.wikimedia.org/wikipedia/commons/d/d4/Fox_News_Channel_logo.png\"],\n",
    "                      [3, \"New York Times\", \"http://1000logos.net/wp-content/uploads/2017/04/Logo-New-York-Times.jpg\"]],columns=[\"id\", \"name\", \"URL_logo\"])\n",
    "\n",
    "source=source.append(source1)"
   ]
  },
  {
   "cell_type": "code",
   "execution_count": null,
   "metadata": {},
   "outputs": [],
   "source": [
    "source = source.drop(['id'],axis=1)"
   ]
  },
  {
   "cell_type": "code",
   "execution_count": null,
   "metadata": {
    "scrolled": true
   },
   "outputs": [],
   "source": [
    "source.to_csv(\"sources.csv\", index=False)"
   ]
  },
  {
   "cell_type": "markdown",
   "metadata": {},
   "source": [
    "## ISSUE MODEL"
   ]
  },
  {
   "cell_type": "code",
   "execution_count": null,
   "metadata": {},
   "outputs": [],
   "source": [
    "issue=DataFrame(columns=[\"id\", \"name\",\"info\",\"URL_logo\"])\n",
    "\n",
    "issue1=pd.DataFrame([[1,\"Environment\",\"The biophysical environment is the biotic and abiotic surrounding of an organism or population, and consequently includes the factors that have an influence in their survival, development, and evolution.[1] The biophysical environment can vary in scale from microscopic to global in extent. It can also be subdivided according to its attributes. Examples include the marine environment, the atmospheric environment and the terrestrial environment.[2] The number of biophysical environments is countless, given that each living organism has its own environment. The term environment is often used as a short form for the biophysical environment, e.g. the UK's Environment Agency. The expression the environment often refers to a singular global environment in relation to humanity.\",\"http://ste.india.com/sites/default/files/2015/06/05/365344-en.jpg\"],\n",
    "                      [2,\"Health Care\",\"Health care or healthcare is the maintenance or improvement of health via the prevention, diagnosis, and treatment of disease, illness, injury, and other physical and mental impairments in human beings. Healthcare is delivered by health professionals (providers or practitioners) in allied health fields. Access to health care may vary across countries, communities, and individuals, largely influenced by social and economic conditions as well as the health policies in place. Countries and jurisdictions have different policies and plans in relation to the personal and population-based health care goals within their societies. Healthcare systems are organizations established to meet the health needs of targeted populations.\",\"http://sipsoftlogic.com/wp-content/uploads/2016/01/healthcare-1024x410.png\"],\n",
    "                      [3,\"Gun Control\",\"Gun laws in the United States regulate the sale, possession, and use of firearms and ammunition. State laws (and the laws of Washington, D.C. and the U.S. territories) vary considerably, and are independent of existing federal firearms laws, although they are sometimes broader or more limited in scope than the federal laws. State level laws vary significantly in their form, content, and level of restriction. Forty-four states have a provision in their state constitutions similar to the Second Amendment to the U.S. Constitution, which protects the right to keep and bear arms. The exceptions are California, Iowa, Maryland, Minnesota, New Jersey, and New York. In New York, however, the statutory civil rights laws contain a provision virtually identical to the Second Amendment.\",\"http://www.thebluediamondgallery.com/wooden-tile/images/gun-law.jpg\"],\n",
    "                     [4,\"Education\",\"Education is the process of facilitating learning, or the acquisition of knowledge, skills, values, beliefs, and habits. Educational methods include storytelling, discussion, teaching, training, and directed research. Education frequently takes place under the guidance of educators, but learners may also educate themselves. Education can take place in formal or informal settings and any experience that has a formative effect on the way one thinks, feels, or acts may be considered educational. The methodology of teaching is called pedagogy.Education is commonly divided formally into such stages as preschool or kindergarten, primary school, secondary school and then college, university, or apprenticeship. A right to education has been recognized by some governments and the United Nations. In most regions, education is compulsory up to a certain age.\",\"https://s3-eu-central-1.amazonaws.com/websites-production/unicaf/wp-content/uploads/2016/05/EDUCATION-text.jpg\"],\n",
    "                      [5,\"Immigration\",\"Immigration is the international movement of people into a destination country of which they are not natives or where they do not possess citizenship in order to settle or reside there, especially as permanent residents or naturalized citizens, or to take-up employment as a migrant worker or temporarily as a foreign worker.As for economic effects, research suggests that migration is beneficial both to the receiving and sending countries. Research, with few exceptions, finds that immigration on average has positive economic effects on the native population, but is mixed as to whether low-skilled immigration adversely affects low-skilled natives. Studies show that the elimination of barriers to migration would have profound effects on world GDP, with estimates of gains ranging between 67 and 147 percent. Development economists argue that reducing barriers to labor mobility between developing countries and developed countries would be one of the most efficient tools of poverty reduction.\",\"http://toledocitypaper.com/wp-content/uploads/2017/03/immigrants-toledo-refugees-protest.jpg\"],\n",
    "                      [6,\"Other\",\"Articles collected from CNN, Fox News and New York Times\",\"https://internetmarketingstrategiesblog.net/wp-content/uploads/2015/10/articles-content-featured.jpg\"]],\n",
    "                     columns=[\"id\", \"name\", \"info\",\"URL_logo\" ])\n",
    "issue=issue.append(issue1)"
   ]
  },
  {
   "cell_type": "code",
   "execution_count": null,
   "metadata": {},
   "outputs": [],
   "source": [
    "issue = issue.drop(['id'],axis=1)"
   ]
  },
  {
   "cell_type": "code",
   "execution_count": null,
   "metadata": {},
   "outputs": [],
   "source": [
    "issue.to_csv(\"issues.csv\", index=False)"
   ]
  },
  {
   "cell_type": "code",
   "execution_count": null,
   "metadata": {},
   "outputs": [],
   "source": [
    "issue"
   ]
  },
  {
   "cell_type": "code",
   "execution_count": null,
   "metadata": {},
   "outputs": [],
   "source": []
  },
  {
   "cell_type": "code",
   "execution_count": null,
   "metadata": {},
   "outputs": [],
   "source": []
  },
  {
   "cell_type": "markdown",
   "metadata": {},
   "source": [
    "## CANDIDATE MODEL"
   ]
  },
  {
   "cell_type": "code",
   "execution_count": null,
   "metadata": {},
   "outputs": [],
   "source": [
    "candidate=DataFrame(columns=[\"id\", \"name\",\"state\",\"date_of_birth\", \"place_birth\", \"position\", \"URL_photo\", \"party\",\"first_name\",\"last_name\",\"score_issue_1\",\"score_issue_2\",\"score_issue_3\",\"score_issue_4\",\"score_issue_5\"])\n",
    "\n",
    "candidate1=pd.DataFrame([[1, \"Don Blankenship\",\"West_Virginia\", \"1950-03-14\", \"Stopover Kentucky\", \"Coal magnate\", \"https://i2.wp.com/woay.tv/wp-content/uploads/2017/05/GTY_don_blankenship_jt_160406_4x3_992.jpg?resize=735%2C400&ssl=1\",\"r\",\"Don\", \"Blankenship\", 98,56,37,29,15 ],\n",
    "                     [2, \"Bo Copley\",\"West_Virginia\", \"1900-01-01\", \"Dingess West Virginia\", \"Coal Miner\",\"https://heavyeditorial.files.wordpress.com/2017/05/bo-copley-e1494012597984.jpg?quality=65&strip=all&w=780&strip=all\",\"r\",\"Bo\", \"Copley\", 45,36,57,24,98 ],\n",
    "                     [3, \"Evan Jenkins\",\"West_Virginia\", \"1960-09-12\", \"Huntington West Virginia\",\"U.S. House of Representatives\",\"https://www.congress.gov/img/member/114_rp_wv_3_jenkins_evan.jpg\",\"r\",\"Evan\", \"Jenkins\",89,35,65,25,67 ],\n",
    "                     [4, \"Joe Manchin\",\"West_Virginia\", \"1947-08-24\", \"Farmington West Virginia\", \"United States Senator\", \"https://fi.wikipedia.org/wiki/Joe_Manchin#/media/File:Senator_Manchin.jpg\", \"d\",\"Joe\", \"Manchin\", 45, 36, 23, 89, 45],\n",
    "                     [5, \"Patrick Morrisey\",\"West_Virginia\",\"1967-12-21\",\"Brooklyn New York City NY\",\"West Virginia Attorney General since 2013\",\"http://wvmetronews.com/wordpress/wp-content/uploads/2016/02/Patrick-Morrisey.jpg?x43308\",\"r\",\"Patrick\", \"Morrisey\",90,35,23,34,54 ],\n",
    "                     [6, \"Jack Newbrough\",\"West_Virginia\", \"1900-01-01\", \"U.S.\",\"U.S. Navy veteran\",\"http://s3.amazonaws.com/ogden_images/www.weirtondailytimes.com/images/2017/09/23190845/Newbrough-003-1100x825.jpg\" ,\"r\",\"Jack\", \"Newbrough\",90,78,86,34,23 ],\n",
    "                     [7, \"Paula Jean Swearengin\", \"West_Virginia\", \"1973-01-01\",\"Mullens West Virginia\",\"Activist\",\"https://cbbba9d899c5f8ae6108-e379174d4d25dcb78174c6cab0a88cea.ssl.cf1.rackcdn.com/1275564-l.jpg\", \"d\",\"Paula Jean\", \"Swearengin\",90,68,46,34,79],\n",
    "                     [8, \"Tom Willis\",\"West_Virginia\", \"1900-01-01\",\"U.S.\",\"Businessman\",\"https://api.ballotpedia.org/v3/thumbnail/200/300/crop/best/2C512069-7298-4BAC-B9F3-6BFECDC2FB57.jpeg\",\"r\",\"Tom\" ,\"Willis\",89,45,34,56,12 ],\n",
    "                     [9, \"Nicholas Freitas\", \"Virginia\", \"1979-08-29\", \"Chico California\", \"Member of the Virginia House of Delegates\",\"https://api.ballotpedia.org/v3/thumbnail/200/300/crop/best/Nick_Freitas.jpg\",\"r\",\"Nicholas\", \"Freitas\",90,34,23,34,56],\n",
    "                     [10, \"E. W. Jackson\", \"Virginia\",\"1952-01-13\",\"Chester Pennsylvania\",\"Lawyer\",\"http://www.standardnewswire.com/images/1248274804.jpg\",\"r\",\"E.W.\", \"Jackson\", 89,45,34,23,45],\n",
    "                     [11, \"Tim Kaine\", \"Virginia\", \"1958-02-26\", \"Saint Paul Minnesota\", \"United States Senator\", \"https://upload.wikimedia.org/wikipedia/commons/1/1d/Tim_Kaine%2C_official_113th_Congress_photo_portrait.jpg\", \"d\",\"Tim\", \"Kaine\",56,76,35,57,78],\n",
    "                     [12, \"Corey Stewart\", \"Virginia\", \"1968-08-01\", \"Duluth Minnesota\", \"Lawyer\", \"http://www.pwcgov.org/government/bocs/PublishingImages/2012%20Official%20Portrait%20Chairman%20Stewart.jpg\", \"r\",\"Corey\", \"Stewart\",13,34,45,12,78],\n",
    "                     [13, \"Matt Waters\", \"Virginia\", \"1900-01-01\", \"Newport News Virginia\", \"Director of Development at Students For Liberty\", \"https://api.ballotpedia.org/v3/thumbnail/200/300/crop/best/Matt_Waters.jpg\", \"o\",\"Matt\", \"Waters\",56,45,78,13,45],\n",
    "                     [14, \"Carl Bible\", \"Texas\", \"1900-01-01\", \"Texas\", \"Businessman\", \"https://pbs.twimg.com/profile_images/928089633296023552/Vm-6G8IN_400x400.jpg\", \"i\",\"Carl\", \"Bible\",90,45,34,65,23],\n",
    "                     [15, \"Ted Cruz\", \"Texas\", \"1970-12-22\", \"Calgary Alberta Canada\", \"United States Senator\", \"https://upload.wikimedia.org/wikipedia/commons/8/87/Ted_Cruz%2C_official_portrait%2C_113th_Congress.jpg\", \"r\",\"Ted\", \"Cruz\",89,45,37,56,45],\n",
    "                     [16, \"Bob McNeil\", \"Texas\", \"1949-01-23\", \"Stuttgart Arkansas\", \"Businessman\", \"https://static1.squarespace.com/static/5987cd8617bffc6a2723b230/t/59b20ddff14aa1ef98ae1083/1508991634672/20170804+-+RAM+Portrait-Cropped-100dpi.JPG?format=300w\", \"o\",\"Bob\", \"McNeil\",57,35,78,35,12],\n",
    "                     [17, \"Beto ORourke\", \"Texas\", \"1972-09-26\", \"El Paso Texas\", \"U.S. House of Representatives\", \"https://upload.wikimedia.org/wikipedia/commons/a/ad/Beto_O%27Rourke%2C_Official_portrait%2C_113th_Congress.jpg\", \"d\",\"Beto\", \"ORourke\",45,65,45,98,14]],\n",
    "                        columns=[\"id\", \"name\",\"state\",\"date_of_birth\", \"place_birth\", \"position\", \"URL_photo\", \"party\",\"first_name\",\"last_name\",\"score_issue_1\",\"score_issue_2\",\"score_issue_3\",\"score_issue_4\",\"score_issue_5\"])\n",
    "\n",
    "candidate=candidate.append(candidate1)"
   ]
  },
  {
   "cell_type": "code",
   "execution_count": null,
   "metadata": {},
   "outputs": [],
   "source": [
    "candidate = candidate.drop(['id'],axis=1)"
   ]
  },
  {
   "cell_type": "code",
   "execution_count": null,
   "metadata": {},
   "outputs": [],
   "source": []
  },
  {
   "cell_type": "code",
   "execution_count": null,
   "metadata": {},
   "outputs": [],
   "source": [
    "candidate.to_csv(\"candidates.csv\", index=False, header=False)"
   ]
  },
  {
   "cell_type": "code",
   "execution_count": null,
   "metadata": {
    "scrolled": true
   },
   "outputs": [],
   "source": [
    "list_names=candidate[\"last_name\"].tolist()"
   ]
  },
  {
   "cell_type": "code",
   "execution_count": null,
   "metadata": {},
   "outputs": [],
   "source": [
    "with open(\"candidates.csv\", \"r\" ) as source:\n",
    "        for line in source:\n",
    "            line = line.strip()\n",
    "            line = line.split(',')\n",
    "            print(line)\n",
    "            statef = line[1]\n",
    "            namef = line[0]\n",
    "            first_namef = line[7]\n",
    "            last_namef = line[8]\n",
    "            date_of_birthf = line[2]\n",
    "            place_birthf = line[3]\n",
    "            positionf = line[4]\n",
    "            partyf  = line[6]\n",
    "            URL_photof = line[5]\n",
    "            score_issue_1f = line[9]\n",
    "            score_issue_2f = line[10]\n",
    "            score_issue_3f = line[11]\n",
    "            score_issue_4f = line[12]\n",
    "            score_issue_5f = line[13]\n",
    "\n",
    "            print(statef)\n",
    "            print(namef)\n",
    "            print(first_namef)\n",
    "            print(last_namef)\n",
    "            print(date_of_birthf)\n",
    "            print(place_birthf)\n",
    "            print(positionf)\n",
    "            print(partyf)\n",
    "            print(URL_photof)\n",
    "            print(score_issue_1f)\n",
    "            print(score_issue_2f)\n",
    "            print(score_issue_3f)\n",
    "            print(score_issue_4f)\n",
    "            print(score_issue_5f)\n"
   ]
  },
  {
   "cell_type": "code",
   "execution_count": null,
   "metadata": {},
   "outputs": [],
   "source": [
    "list_names"
   ]
  },
  {
   "cell_type": "markdown",
   "metadata": {},
   "source": [
    "## POPULARITY MODEL"
   ]
  },
  {
   "cell_type": "code",
   "execution_count": null,
   "metadata": {},
   "outputs": [],
   "source": [
    "popularity = pd.read_json(\"POPULARITY.json\")"
   ]
  },
  {
   "cell_type": "code",
   "execution_count": null,
   "metadata": {},
   "outputs": [],
   "source": [
    "popularity.to_csv(\"popularity.csv\", index=False, header=False)"
   ]
  },
  {
   "cell_type": "code",
   "execution_count": null,
   "metadata": {},
   "outputs": [],
   "source": [
    "popularity[\"last_name\"]=list_names"
   ]
  },
  {
   "cell_type": "code",
   "execution_count": null,
   "metadata": {},
   "outputs": [],
   "source": [
    "popularity=popularity.drop([\"id\"], axis=1)"
   ]
  },
  {
   "cell_type": "code",
   "execution_count": null,
   "metadata": {},
   "outputs": [],
   "source": [
    "popularity = popularity[['april', 'may', 'june', 'july', 'august','september','october','november','december','january',\n",
    "                        'february','march', 'last_name']]"
   ]
  },
  {
   "cell_type": "code",
   "execution_count": null,
   "metadata": {
    "scrolled": true
   },
   "outputs": [],
   "source": [
    "popularity"
   ]
  },
  {
   "cell_type": "code",
   "execution_count": null,
   "metadata": {},
   "outputs": [],
   "source": [
    "popularity.to_csv(\"popularity2.csv\", index=False, header=False)"
   ]
  },
  {
   "cell_type": "code",
   "execution_count": null,
   "metadata": {},
   "outputs": [],
   "source": [
    "    "
   ]
  },
  {
   "cell_type": "markdown",
   "metadata": {},
   "source": [
    "## CLOUD MODEL"
   ]
  },
  {
   "cell_type": "code",
   "execution_count": null,
   "metadata": {},
   "outputs": [],
   "source": [
    "cloud= pd.read_csv(\"cloud.csv\")"
   ]
  },
  {
   "cell_type": "code",
   "execution_count": null,
   "metadata": {},
   "outputs": [],
   "source": [
    "cloud"
   ]
  },
  {
   "cell_type": "code",
   "execution_count": null,
   "metadata": {},
   "outputs": [],
   "source": [
    "cloud.to_csv(\"cloud2.csv\", index=False, header=False)"
   ]
  },
  {
   "cell_type": "code",
   "execution_count": null,
   "metadata": {},
   "outputs": [],
   "source": [
    "cloud[\"last_name\"]=list_names"
   ]
  },
  {
   "cell_type": "code",
   "execution_count": null,
   "metadata": {},
   "outputs": [],
   "source": [
    "cloud=cloud.sort_values([\"id\"])"
   ]
  },
  {
   "cell_type": "code",
   "execution_count": null,
   "metadata": {},
   "outputs": [],
   "source": [
    "article_raw=pd.read_json(\"set_2_data/ALL_DATA_SUMM.json\")"
   ]
  },
  {
   "cell_type": "markdown",
   "metadata": {},
   "source": [
    "    id = models.AutoField(primary_key=True)\n",
    "    candidate = models.ForeignKey('Candidate', on_delete=models.SET_NULL, null=True)\n",
    "    state = models.ForeignKey('State', on_delete=models.SET_NULL, null=True)\n",
    "    issue = models.ForeignKey('Issue', on_delete=models.SET_NULL, null=True)\n",
    "    source = models.ForeignKey('Source', on_delete=models.SET_NULL, null=True)\n",
    "    link = models.CharField(max_length=250)\n",
    "    sentiment_score = models.IntegerField()\n",
    "    summary = models.TextField(max_length=5000, help_text='Enter a brief description of the article')\n",
    "    date = models.DateField(null=True, blank=True)\n",
    "    title = models.CharField(max_length=250)"
   ]
  },
  {
   "cell_type": "code",
   "execution_count": null,
   "metadata": {},
   "outputs": [],
   "source": [
    "article_raw.columns"
   ]
  },
  {
   "cell_type": "code",
   "execution_count": null,
   "metadata": {},
   "outputs": [],
   "source": [
    " article=article_raw.rename(index=str, columns={\"candidate_fk\": \"candidate\", \"state_fk\": \"state\", \"source_fk\":\"source\",\n",
    "                                   \"articles_link\": \"link\", \"articles_date\":\"date\", \"articles_title\":\"title\"})"
   ]
  },
  {
   "cell_type": "code",
   "execution_count": null,
   "metadata": {},
   "outputs": [],
   "source": [
    "article.columns"
   ]
  },
  {
   "cell_type": "code",
   "execution_count": null,
   "metadata": {},
   "outputs": [],
   "source": [
    "article=article.drop([\"candidate\", \"source\", \"state\",\"article_text\"],axis=1)"
   ]
  },
  {
   "cell_type": "code",
   "execution_count": null,
   "metadata": {},
   "outputs": [],
   "source": [
    "article[\"sentiment_score\"]=0"
   ]
  },
  {
   "cell_type": "code",
   "execution_count": null,
   "metadata": {},
   "outputs": [],
   "source": [
    "article[\"issue\"]=0"
   ]
  },
  {
   "cell_type": "code",
   "execution_count": null,
   "metadata": {},
   "outputs": [],
   "source": [
    "for i in range(len(article)):\n",
    "    article[\"issue\"][i]=random.randint(1,7)\n",
    "    article[\"sentiment_score\"][i]=random.randint(0,101)\n",
    "    "
   ]
  },
  {
   "cell_type": "code",
   "execution_count": null,
   "metadata": {},
   "outputs": [],
   "source": [
    "article = article.drop(['id'],axis=1)"
   ]
  },
  {
   "cell_type": "code",
   "execution_count": null,
   "metadata": {},
   "outputs": [],
   "source": [
    "article"
   ]
  },
  {
   "cell_type": "code",
   "execution_count": null,
   "metadata": {},
   "outputs": [],
   "source": [
    "article.to_csv(\"articles5.csv\", index=False, sep='\\t', header=False)"
   ]
  },
  {
   "cell_type": "code",
   "execution_count": null,
   "metadata": {},
   "outputs": [],
   "source": [
    "article[\"issue1\"]=\"other\""
   ]
  },
  {
   "cell_type": "code",
   "execution_count": null,
   "metadata": {},
   "outputs": [],
   "source": [
    "for i in range(len(article)):\n",
    "    date=article[\"date\"][i]\n",
    "    date=date.split()\n",
    "    if (len(date[0])==1):\n",
    "        date[0]=\"0\"+date[0]\n",
    "    if (len(date[1])==1):\n",
    "        date[1]=\"0\"+date[1]\n",
    "    article[\"date\"][i]=date[2]+\"-\"+date[1]+\"-\"+date[0]"
   ]
  },
  {
   "cell_type": "code",
   "execution_count": null,
   "metadata": {},
   "outputs": [],
   "source": [
    "for i in range(len(article)):\n",
    "    if article[\"issue\"][i]== 1:\n",
    "        article[\"issue1\"][i]=\"Environment\"\n",
    "    elif article[\"issue\"][i]== 2:\n",
    "        article[\"issue1\"][i]=\"Health Care\"\n",
    "    elif article[\"issue\"][i]== 3:\n",
    "        article[\"issue1\"][i]=\"Gun Control\"\n",
    "    elif article[\"issue\"][i]== 4:\n",
    "        article[\"issue1\"][i]= \"Education\"\n",
    "    elif article[\"issue\"][i]==5:\n",
    "        article[\"issue1\"][i]= \"Immigration\"\n",
    "    else:\n",
    "        article[\"issue1\"][i]= \"Other\""
   ]
  },
  {
   "cell_type": "code",
   "execution_count": null,
   "metadata": {},
   "outputs": [],
   "source": [
    "article = article.drop(['issue'],axis=1)"
   ]
  },
  {
   "cell_type": "code",
   "execution_count": null,
   "metadata": {},
   "outputs": [],
   "source": [
    "article[100:200]"
   ]
  },
  {
   "cell_type": "code",
   "execution_count": null,
   "metadata": {},
   "outputs": [],
   "source": [
    "   for i in range(len(article)):\n",
    "    if article[\"newspaper_name\"][i]== \"foxnews\":\n",
    "        article[\"newspaper_name\"][i]=\"FoxNews\"\n",
    "    elif article[\"newspaper_name\"][i]== \"NYT\":\n",
    "        article[\"newspaper_name\"][i]=\"New York Times\"\n",
    "    else:\n",
    "        pass"
   ]
  },
  {
   "cell_type": "code",
   "execution_count": null,
   "metadata": {},
   "outputs": [],
   "source": [
    "    id = models.AutoField(primary_key=True)\n",
    "    article_id=models.IntegerField(default=1)\n",
    "    candidate_last = models.CharField(max_length=250)\n",
    "    candidate_first = models.CharField(max_length=250)\n",
    "    issue = models.CharField(max_length=250)\n",
    "    source = models.CharField(max_length=250)\n",
    "    link = models.CharField(max_length=250)\n",
    "    sentiment_score = models.IntegerField()\n",
    "    summary = models.TextField(max_length=5000, help_text='Enter a brief description of the article')\n",
    "    date = models.DateField(null=True, blank=True)\n",
    "    title = models.CharField(max_length=250)"
   ]
  },
  {
   "cell_type": "code",
   "execution_count": null,
   "metadata": {},
   "outputs": [],
   "source": [
    "i=0\n",
    "j_article=0\n",
    "with open(\"articles5.csv\", \"r\" ) as articles:\n",
    "            for line in articles:\n",
    "                print(i)\n",
    "                line = line.strip()\n",
    "                line = line.split('\\t')\n",
    "                if len(line)==9:\n",
    "                    print(line[9])\n",
    "                    datet=line[0]\n",
    "                    linkt=line[1]\n",
    "                    titlet=line[2]\n",
    "                    summaryt=line[6]\n",
    "                    sentiment_scoret=line[7]\n",
    "                    issue=line[8]\n",
    "                    candidate_last=line[4]\n",
    "                    candidate_first=line[3]\n",
    "                    source=line[5]\n",
    "                    i=i+1\n",
    "                    j_article=j_article+1\n",
    "                else:\n",
    "                    pass"
   ]
  },
  {
   "cell_type": "code",
   "execution_count": null,
   "metadata": {},
   "outputs": [],
   "source": []
  }
 ],
 "metadata": {
  "kernelspec": {
   "display_name": "Python 3",
   "language": "python",
   "name": "python3"
  },
  "language_info": {
   "codemirror_mode": {
    "name": "ipython",
    "version": 3
   },
   "file_extension": ".py",
   "mimetype": "text/x-python",
   "name": "python",
   "nbconvert_exporter": "python",
   "pygments_lexer": "ipython3",
   "version": "3.6.4"
  }
 },
 "nbformat": 4,
 "nbformat_minor": 2
}
